{
 "cells": [
  {
   "cell_type": "markdown",
   "metadata": {},
   "source": [
    "<h1><center>Deep learning with Keras</center></h1>\n",
    "\n",
    "<center>Owen Jones | BathML | 3rd June 2018</center>"
   ]
  },
  {
   "cell_type": "markdown",
   "metadata": {},
   "source": [
    "Let's start at the very beginning..."
   ]
  },
  {
   "cell_type": "code",
   "execution_count": 1,
   "metadata": {
    "collapsed": true
   },
   "outputs": [],
   "source": [
    "import numpy as np\n",
    "np.random.seed(2018)"
   ]
  },
  {
   "cell_type": "markdown",
   "metadata": {},
   "source": [
    "OK yes, that is not the most interesting beginning. But it means that the results in this notebook are now reproducible (yay!). Good. Moving on."
   ]
  },
  {
   "cell_type": "markdown",
   "metadata": {},
   "source": [
    "## What is Keras?"
   ]
  },
  {
   "cell_type": "markdown",
   "metadata": {},
   "source": [
    "> Keras is a high-level neural networks API, written in Python and capable of running on top of TensorFlow, CNTK, or Theano. -- **[keras.io](https://keras.io)**"
   ]
  },
  {
   "cell_type": "markdown",
   "metadata": {},
   "source": [
    "In other words, Keras makes it super easy to build neural networks. And that is exactly what we're going to do."
   ]
  },
  {
   "cell_type": "code",
   "execution_count": 2,
   "metadata": {
    "scrolled": true
   },
   "outputs": [
    {
     "name": "stderr",
     "output_type": "stream",
     "text": [
      "C:\\Users\\jones\\AppData\\Local\\Continuum\\anaconda3\\lib\\site-packages\\h5py\\__init__.py:34: FutureWarning: Conversion of the second argument of issubdtype from `float` to `np.floating` is deprecated. In future, it will be treated as `np.float64 == np.dtype(float).type`.\n",
      "  from ._conv import register_converters as _register_converters\n",
      "Using TensorFlow backend.\n"
     ]
    }
   ],
   "source": [
    "import keras"
   ]
  },
  {
   "cell_type": "markdown",
   "metadata": {},
   "source": [
    "---"
   ]
  },
  {
   "cell_type": "markdown",
   "metadata": {},
   "source": [
    "## The best dataset in the world"
   ]
  },
  {
   "cell_type": "markdown",
   "metadata": {},
   "source": [
    "To get the hang of the Keras syntax, we're going to start off with a really simple network on a really simple dataset. You might have come across this one before...\n",
    "\n",
    "We're going to be using a little bit of `numpy`, because Keras works with data stored in `numpy` arrays."
   ]
  },
  {
   "cell_type": "code",
   "execution_count": 3,
   "metadata": {},
   "outputs": [
    {
     "data": {
      "text/plain": [
       "array([[5.1, 3.5, 1.4, 0.2, 0. ],\n",
       "       [4.9, 3. , 1.4, 0.2, 0. ],\n",
       "       [4.7, 3.2, 1.3, 0.2, 0. ],\n",
       "       [4.6, 3.1, 1.5, 0.2, 0. ],\n",
       "       [5. , 3.6, 1.4, 0.2, 0. ],\n",
       "       [5.4, 3.9, 1.7, 0.4, 0. ],\n",
       "       [4.6, 3.4, 1.4, 0.3, 0. ],\n",
       "       [5. , 3.4, 1.5, 0.2, 0. ],\n",
       "       [4.4, 2.9, 1.4, 0.2, 0. ],\n",
       "       [4.9, 3.1, 1.5, 0.1, 0. ],\n",
       "       [5.4, 3.7, 1.5, 0.2, 0. ],\n",
       "       [4.8, 3.4, 1.6, 0.2, 0. ],\n",
       "       [4.8, 3. , 1.4, 0.1, 0. ],\n",
       "       [4.3, 3. , 1.1, 0.1, 0. ],\n",
       "       [5.8, 4. , 1.2, 0.2, 0. ],\n",
       "       [5.7, 4.4, 1.5, 0.4, 0. ],\n",
       "       [5.4, 3.9, 1.3, 0.4, 0. ],\n",
       "       [5.1, 3.5, 1.4, 0.3, 0. ],\n",
       "       [5.7, 3.8, 1.7, 0.3, 0. ],\n",
       "       [5.1, 3.8, 1.5, 0.3, 0. ],\n",
       "       [5.4, 3.4, 1.7, 0.2, 0. ],\n",
       "       [5.1, 3.7, 1.5, 0.4, 0. ],\n",
       "       [4.6, 3.6, 1. , 0.2, 0. ],\n",
       "       [5.1, 3.3, 1.7, 0.5, 0. ],\n",
       "       [4.8, 3.4, 1.9, 0.2, 0. ],\n",
       "       [5. , 3. , 1.6, 0.2, 0. ],\n",
       "       [5. , 3.4, 1.6, 0.4, 0. ],\n",
       "       [5.2, 3.5, 1.5, 0.2, 0. ],\n",
       "       [5.2, 3.4, 1.4, 0.2, 0. ],\n",
       "       [4.7, 3.2, 1.6, 0.2, 0. ],\n",
       "       [4.8, 3.1, 1.6, 0.2, 0. ],\n",
       "       [5.4, 3.4, 1.5, 0.4, 0. ],\n",
       "       [5.2, 4.1, 1.5, 0.1, 0. ],\n",
       "       [5.5, 4.2, 1.4, 0.2, 0. ],\n",
       "       [4.9, 3.1, 1.5, 0.1, 0. ],\n",
       "       [5. , 3.2, 1.2, 0.2, 0. ],\n",
       "       [5.5, 3.5, 1.3, 0.2, 0. ],\n",
       "       [4.9, 3.1, 1.5, 0.1, 0. ],\n",
       "       [4.4, 3. , 1.3, 0.2, 0. ],\n",
       "       [5.1, 3.4, 1.5, 0.2, 0. ],\n",
       "       [5. , 3.5, 1.3, 0.3, 0. ],\n",
       "       [4.5, 2.3, 1.3, 0.3, 0. ],\n",
       "       [4.4, 3.2, 1.3, 0.2, 0. ],\n",
       "       [5. , 3.5, 1.6, 0.6, 0. ],\n",
       "       [5.1, 3.8, 1.9, 0.4, 0. ],\n",
       "       [4.8, 3. , 1.4, 0.3, 0. ],\n",
       "       [5.1, 3.8, 1.6, 0.2, 0. ],\n",
       "       [4.6, 3.2, 1.4, 0.2, 0. ],\n",
       "       [5.3, 3.7, 1.5, 0.2, 0. ],\n",
       "       [5. , 3.3, 1.4, 0.2, 0. ],\n",
       "       [7. , 3.2, 4.7, 1.4, 1. ],\n",
       "       [6.4, 3.2, 4.5, 1.5, 1. ],\n",
       "       [6.9, 3.1, 4.9, 1.5, 1. ],\n",
       "       [5.5, 2.3, 4. , 1.3, 1. ],\n",
       "       [6.5, 2.8, 4.6, 1.5, 1. ],\n",
       "       [5.7, 2.8, 4.5, 1.3, 1. ],\n",
       "       [6.3, 3.3, 4.7, 1.6, 1. ],\n",
       "       [4.9, 2.4, 3.3, 1. , 1. ],\n",
       "       [6.6, 2.9, 4.6, 1.3, 1. ],\n",
       "       [5.2, 2.7, 3.9, 1.4, 1. ],\n",
       "       [5. , 2. , 3.5, 1. , 1. ],\n",
       "       [5.9, 3. , 4.2, 1.5, 1. ],\n",
       "       [6. , 2.2, 4. , 1. , 1. ],\n",
       "       [6.1, 2.9, 4.7, 1.4, 1. ],\n",
       "       [5.6, 2.9, 3.6, 1.3, 1. ],\n",
       "       [6.7, 3.1, 4.4, 1.4, 1. ],\n",
       "       [5.6, 3. , 4.5, 1.5, 1. ],\n",
       "       [5.8, 2.7, 4.1, 1. , 1. ],\n",
       "       [6.2, 2.2, 4.5, 1.5, 1. ],\n",
       "       [5.6, 2.5, 3.9, 1.1, 1. ],\n",
       "       [5.9, 3.2, 4.8, 1.8, 1. ],\n",
       "       [6.1, 2.8, 4. , 1.3, 1. ],\n",
       "       [6.3, 2.5, 4.9, 1.5, 1. ],\n",
       "       [6.1, 2.8, 4.7, 1.2, 1. ],\n",
       "       [6.4, 2.9, 4.3, 1.3, 1. ],\n",
       "       [6.6, 3. , 4.4, 1.4, 1. ],\n",
       "       [6.8, 2.8, 4.8, 1.4, 1. ],\n",
       "       [6.7, 3. , 5. , 1.7, 1. ],\n",
       "       [6. , 2.9, 4.5, 1.5, 1. ],\n",
       "       [5.7, 2.6, 3.5, 1. , 1. ],\n",
       "       [5.5, 2.4, 3.8, 1.1, 1. ],\n",
       "       [5.5, 2.4, 3.7, 1. , 1. ],\n",
       "       [5.8, 2.7, 3.9, 1.2, 1. ],\n",
       "       [6. , 2.7, 5.1, 1.6, 1. ],\n",
       "       [5.4, 3. , 4.5, 1.5, 1. ],\n",
       "       [6. , 3.4, 4.5, 1.6, 1. ],\n",
       "       [6.7, 3.1, 4.7, 1.5, 1. ],\n",
       "       [6.3, 2.3, 4.4, 1.3, 1. ],\n",
       "       [5.6, 3. , 4.1, 1.3, 1. ],\n",
       "       [5.5, 2.5, 4. , 1.3, 1. ],\n",
       "       [5.5, 2.6, 4.4, 1.2, 1. ],\n",
       "       [6.1, 3. , 4.6, 1.4, 1. ],\n",
       "       [5.8, 2.6, 4. , 1.2, 1. ],\n",
       "       [5. , 2.3, 3.3, 1. , 1. ],\n",
       "       [5.6, 2.7, 4.2, 1.3, 1. ],\n",
       "       [5.7, 3. , 4.2, 1.2, 1. ],\n",
       "       [5.7, 2.9, 4.2, 1.3, 1. ],\n",
       "       [6.2, 2.9, 4.3, 1.3, 1. ],\n",
       "       [5.1, 2.5, 3. , 1.1, 1. ],\n",
       "       [5.7, 2.8, 4.1, 1.3, 1. ],\n",
       "       [6.3, 3.3, 6. , 2.5, 2. ],\n",
       "       [5.8, 2.7, 5.1, 1.9, 2. ],\n",
       "       [7.1, 3. , 5.9, 2.1, 2. ],\n",
       "       [6.3, 2.9, 5.6, 1.8, 2. ],\n",
       "       [6.5, 3. , 5.8, 2.2, 2. ],\n",
       "       [7.6, 3. , 6.6, 2.1, 2. ],\n",
       "       [4.9, 2.5, 4.5, 1.7, 2. ],\n",
       "       [7.3, 2.9, 6.3, 1.8, 2. ],\n",
       "       [6.7, 2.5, 5.8, 1.8, 2. ],\n",
       "       [7.2, 3.6, 6.1, 2.5, 2. ],\n",
       "       [6.5, 3.2, 5.1, 2. , 2. ],\n",
       "       [6.4, 2.7, 5.3, 1.9, 2. ],\n",
       "       [6.8, 3. , 5.5, 2.1, 2. ],\n",
       "       [5.7, 2.5, 5. , 2. , 2. ],\n",
       "       [5.8, 2.8, 5.1, 2.4, 2. ],\n",
       "       [6.4, 3.2, 5.3, 2.3, 2. ],\n",
       "       [6.5, 3. , 5.5, 1.8, 2. ],\n",
       "       [7.7, 3.8, 6.7, 2.2, 2. ],\n",
       "       [7.7, 2.6, 6.9, 2.3, 2. ],\n",
       "       [6. , 2.2, 5. , 1.5, 2. ],\n",
       "       [6.9, 3.2, 5.7, 2.3, 2. ],\n",
       "       [5.6, 2.8, 4.9, 2. , 2. ],\n",
       "       [7.7, 2.8, 6.7, 2. , 2. ],\n",
       "       [6.3, 2.7, 4.9, 1.8, 2. ],\n",
       "       [6.7, 3.3, 5.7, 2.1, 2. ],\n",
       "       [7.2, 3.2, 6. , 1.8, 2. ],\n",
       "       [6.2, 2.8, 4.8, 1.8, 2. ],\n",
       "       [6.1, 3. , 4.9, 1.8, 2. ],\n",
       "       [6.4, 2.8, 5.6, 2.1, 2. ],\n",
       "       [7.2, 3. , 5.8, 1.6, 2. ],\n",
       "       [7.4, 2.8, 6.1, 1.9, 2. ],\n",
       "       [7.9, 3.8, 6.4, 2. , 2. ],\n",
       "       [6.4, 2.8, 5.6, 2.2, 2. ],\n",
       "       [6.3, 2.8, 5.1, 1.5, 2. ],\n",
       "       [6.1, 2.6, 5.6, 1.4, 2. ],\n",
       "       [7.7, 3. , 6.1, 2.3, 2. ],\n",
       "       [6.3, 3.4, 5.6, 2.4, 2. ],\n",
       "       [6.4, 3.1, 5.5, 1.8, 2. ],\n",
       "       [6. , 3. , 4.8, 1.8, 2. ],\n",
       "       [6.9, 3.1, 5.4, 2.1, 2. ],\n",
       "       [6.7, 3.1, 5.6, 2.4, 2. ],\n",
       "       [6.9, 3.1, 5.1, 2.3, 2. ],\n",
       "       [5.8, 2.7, 5.1, 1.9, 2. ],\n",
       "       [6.8, 3.2, 5.9, 2.3, 2. ],\n",
       "       [6.7, 3.3, 5.7, 2.5, 2. ],\n",
       "       [6.7, 3. , 5.2, 2.3, 2. ],\n",
       "       [6.3, 2.5, 5. , 1.9, 2. ],\n",
       "       [6.5, 3. , 5.2, 2. , 2. ],\n",
       "       [6.2, 3.4, 5.4, 2.3, 2. ],\n",
       "       [5.9, 3. , 5.1, 1.8, 2. ]])"
      ]
     },
     "execution_count": 3,
     "metadata": {},
     "output_type": "execute_result"
    }
   ],
   "source": [
    "iris = np.load(\"data/iris.npy\")\n",
    "iris"
   ]
  },
  {
   "cell_type": "markdown",
   "metadata": {},
   "source": [
    "The first four columns are numeric features (plant-related measurements... don't worry too much), and the fifth column is a label corresponding to the species, which is what we're going to use as our target.\n",
    "\n",
    "First we're just going to shuffle the rows, because at the moment they're in order (notice the label in the last column); in a minute we'll be splitting the data and we want a mixture of labels in each part."
   ]
  },
  {
   "cell_type": "code",
   "execution_count": 4,
   "metadata": {
    "collapsed": true
   },
   "outputs": [],
   "source": [
    "np.random.shuffle(iris)"
   ]
  },
  {
   "cell_type": "markdown",
   "metadata": {},
   "source": [
    "Now we'll separate the labels..."
   ]
  },
  {
   "cell_type": "code",
   "execution_count": 5,
   "metadata": {
    "collapsed": true
   },
   "outputs": [],
   "source": [
    "iris_labels = iris[:, 4]"
   ]
  },
  {
   "cell_type": "markdown",
   "metadata": {},
   "source": [
    "... because Keras needs the labels to be \"one-hot encoded\".\n",
    "\n",
    "**One-hot encoded label:** list out all the possible labels, and mark the one which is correct.\n",
    "\n",
    "Here, our label could be 0, 1 or 2. \n",
    "    Is it: 0? 1? 2?\n",
    "    ---------------\n",
    "    0 =>  [1, 0, 0]\n",
    "    1 =>  [0, 1, 0]\n",
    "    2 =>  [0, 0, 1]\n",
    "\n",
    "Keras can do this for us..."
   ]
  },
  {
   "cell_type": "code",
   "execution_count": 6,
   "metadata": {},
   "outputs": [
    {
     "data": {
      "text/plain": [
       "array([[1., 0., 0.],\n",
       "       [0., 1., 0.],\n",
       "       [0., 1., 0.],\n",
       "       [0., 1., 0.],\n",
       "       [1., 0., 0.],\n",
       "       [0., 1., 0.],\n",
       "       [0., 0., 1.],\n",
       "       [0., 1., 0.],\n",
       "       [0., 0., 1.],\n",
       "       [1., 0., 0.],\n",
       "       [1., 0., 0.],\n",
       "       [0., 0., 1.],\n",
       "       [0., 0., 1.],\n",
       "       [0., 0., 1.],\n",
       "       [1., 0., 0.],\n",
       "       [0., 0., 1.],\n",
       "       [0., 0., 1.],\n",
       "       [1., 0., 0.],\n",
       "       [0., 1., 0.],\n",
       "       [0., 1., 0.],\n",
       "       [0., 1., 0.],\n",
       "       [1., 0., 0.],\n",
       "       [0., 0., 1.],\n",
       "       [1., 0., 0.],\n",
       "       [1., 0., 0.],\n",
       "       [0., 0., 1.],\n",
       "       [1., 0., 0.],\n",
       "       [1., 0., 0.],\n",
       "       [0., 0., 1.],\n",
       "       [0., 1., 0.],\n",
       "       [1., 0., 0.],\n",
       "       [0., 0., 1.],\n",
       "       [1., 0., 0.],\n",
       "       [0., 1., 0.],\n",
       "       [0., 0., 1.],\n",
       "       [1., 0., 0.],\n",
       "       [1., 0., 0.],\n",
       "       [1., 0., 0.],\n",
       "       [1., 0., 0.],\n",
       "       [0., 1., 0.],\n",
       "       [1., 0., 0.],\n",
       "       [0., 0., 1.],\n",
       "       [0., 0., 1.],\n",
       "       [0., 0., 1.],\n",
       "       [0., 0., 1.],\n",
       "       [1., 0., 0.],\n",
       "       [0., 1., 0.],\n",
       "       [0., 0., 1.],\n",
       "       [0., 1., 0.],\n",
       "       [0., 1., 0.],\n",
       "       [0., 1., 0.],\n",
       "       [1., 0., 0.],\n",
       "       [0., 1., 0.],\n",
       "       [1., 0., 0.],\n",
       "       [1., 0., 0.],\n",
       "       [1., 0., 0.],\n",
       "       [0., 1., 0.],\n",
       "       [1., 0., 0.],\n",
       "       [0., 1., 0.],\n",
       "       [0., 1., 0.],\n",
       "       [1., 0., 0.],\n",
       "       [0., 0., 1.],\n",
       "       [0., 1., 0.],\n",
       "       [1., 0., 0.],\n",
       "       [1., 0., 0.],\n",
       "       [0., 0., 1.],\n",
       "       [0., 0., 1.],\n",
       "       [1., 0., 0.],\n",
       "       [0., 0., 1.],\n",
       "       [0., 0., 1.],\n",
       "       [0., 1., 0.],\n",
       "       [0., 0., 1.],\n",
       "       [0., 1., 0.],\n",
       "       [0., 0., 1.],\n",
       "       [1., 0., 0.],\n",
       "       [0., 1., 0.],\n",
       "       [0., 1., 0.],\n",
       "       [0., 1., 0.],\n",
       "       [1., 0., 0.],\n",
       "       [0., 1., 0.],\n",
       "       [0., 1., 0.],\n",
       "       [0., 1., 0.],\n",
       "       [0., 1., 0.],\n",
       "       [1., 0., 0.],\n",
       "       [0., 0., 1.],\n",
       "       [0., 0., 1.],\n",
       "       [0., 0., 1.],\n",
       "       [1., 0., 0.],\n",
       "       [0., 1., 0.],\n",
       "       [0., 1., 0.],\n",
       "       [0., 1., 0.],\n",
       "       [0., 1., 0.],\n",
       "       [1., 0., 0.],\n",
       "       [1., 0., 0.],\n",
       "       [0., 1., 0.],\n",
       "       [1., 0., 0.],\n",
       "       [1., 0., 0.],\n",
       "       [0., 1., 0.],\n",
       "       [0., 1., 0.],\n",
       "       [0., 1., 0.],\n",
       "       [0., 0., 1.],\n",
       "       [0., 0., 1.],\n",
       "       [1., 0., 0.],\n",
       "       [0., 0., 1.],\n",
       "       [0., 0., 1.],\n",
       "       [1., 0., 0.],\n",
       "       [0., 1., 0.],\n",
       "       [0., 0., 1.],\n",
       "       [0., 0., 1.],\n",
       "       [0., 0., 1.],\n",
       "       [0., 0., 1.],\n",
       "       [0., 1., 0.],\n",
       "       [0., 1., 0.],\n",
       "       [0., 1., 0.],\n",
       "       [0., 0., 1.],\n",
       "       [0., 1., 0.],\n",
       "       [1., 0., 0.],\n",
       "       [0., 0., 1.],\n",
       "       [1., 0., 0.],\n",
       "       [1., 0., 0.],\n",
       "       [0., 1., 0.],\n",
       "       [0., 1., 0.],\n",
       "       [0., 0., 1.],\n",
       "       [1., 0., 0.],\n",
       "       [0., 0., 1.],\n",
       "       [1., 0., 0.],\n",
       "       [0., 1., 0.],\n",
       "       [0., 1., 0.],\n",
       "       [0., 0., 1.],\n",
       "       [0., 0., 1.],\n",
       "       [0., 0., 1.],\n",
       "       [0., 0., 1.],\n",
       "       [1., 0., 0.],\n",
       "       [0., 0., 1.],\n",
       "       [0., 1., 0.],\n",
       "       [0., 0., 1.],\n",
       "       [1., 0., 0.],\n",
       "       [1., 0., 0.],\n",
       "       [0., 0., 1.],\n",
       "       [0., 0., 1.],\n",
       "       [1., 0., 0.],\n",
       "       [0., 0., 1.],\n",
       "       [1., 0., 0.],\n",
       "       [0., 1., 0.],\n",
       "       [0., 1., 0.],\n",
       "       [0., 1., 0.],\n",
       "       [1., 0., 0.],\n",
       "       [0., 0., 1.],\n",
       "       [1., 0., 0.],\n",
       "       [0., 0., 1.]])"
      ]
     },
     "execution_count": 6,
     "metadata": {},
     "output_type": "execute_result"
    }
   ],
   "source": [
    "from keras.utils import to_categorical\n",
    "iris_onehot = to_categorical(iris_labels)\n",
    "iris_onehot"
   ]
  },
  {
   "cell_type": "markdown",
   "metadata": {},
   "source": [
    "Now we can get on with building a neural net!"
   ]
  },
  {
   "cell_type": "markdown",
   "metadata": {},
   "source": [
    "## A simple network"
   ]
  },
  {
   "cell_type": "markdown",
   "metadata": {},
   "source": [
    "We're going to build a \"sequential\" model. The clue's in the name - we start with an empty model, and _sequentially_ add layers."
   ]
  },
  {
   "cell_type": "code",
   "execution_count": 7,
   "metadata": {
    "collapsed": true
   },
   "outputs": [],
   "source": [
    "from keras.models import Sequential\n",
    "\n",
    "model = Sequential()"
   ]
  },
  {
   "cell_type": "markdown",
   "metadata": {},
   "source": [
    "There are plenty of layers to choose from, and we'll see some more exciting ones later on, but for now we'll stick with dense layers.\n",
    "\n",
    "For each dense layer, we specify:\n",
    "* The number of `units`, or how many neurons we want in the layer - the final layer will need to have 3 units, because we're classifying each input as one of 3 labels\n",
    "* The `activation` function we want to use - in a fully dense network, we tend to use sigmoid activation on the middle layers and softmax on the output layer\n",
    "\n",
    "And Keras takes care of everything else for us.\n",
    "\n",
    "Well, almost. For the very first layer in any model, we need to tell Keras what \"shape\" our input will be. We ignore the first dimension (the number of observations, or \"rows\"), because it can change without consequence; but we have to specify the other dimensions in a tuple. Here, it's a size-1 tuple, specifying that we have 4 features (\"columns\").\n",
    "\n",
    "Oh, and to add layers we use... umm, `add()`."
   ]
  },
  {
   "cell_type": "code",
   "execution_count": 8,
   "metadata": {
    "collapsed": true
   },
   "outputs": [],
   "source": [
    "from keras.layers import Dense\n",
    "\n",
    "model.add(Dense(15, activation=\"sigmoid\", input_shape=(4,)))\n",
    "model.add(Dense(3, activation=\"softmax\"))"
   ]
  },
  {
   "cell_type": "markdown",
   "metadata": {},
   "source": [
    "Let's see what we've created..."
   ]
  },
  {
   "cell_type": "code",
   "execution_count": 9,
   "metadata": {
    "scrolled": true
   },
   "outputs": [
    {
     "name": "stdout",
     "output_type": "stream",
     "text": [
      "_________________________________________________________________\n",
      "Layer (type)                 Output Shape              Param #   \n",
      "=================================================================\n",
      "dense_1 (Dense)              (None, 15)                75        \n",
      "_________________________________________________________________\n",
      "dense_2 (Dense)              (None, 3)                 48        \n",
      "=================================================================\n",
      "Total params: 123\n",
      "Trainable params: 123\n",
      "Non-trainable params: 0\n",
      "_________________________________________________________________\n"
     ]
    }
   ],
   "source": [
    "model.summary()"
   ]
  },
  {
   "cell_type": "markdown",
   "metadata": {},
   "source": [
    "Looking good!\n",
    "\n",
    "There's one more thing to do before we can train our model though: now that we're happy with it, we have to lock it in by \"compiling\" it.\n",
    "\n",
    "At this point we also need to tell Keras which loss function (always categorical crossentropy for multiclass classification) and optimizer (stochastic gradient descent, or something more fancy) to use.\n",
    "\n",
    "We can also ask for a list of metrics which we would like to see reported during training. These have nothing to do with the training process. The training process tries to minimise the loss function. Usually that results in an increase in accuracy. Once again - the metrics have NOTHING to do with the training process. It's just nice to see them improving as we train!"
   ]
  },
  {
   "cell_type": "code",
   "execution_count": 10,
   "metadata": {
    "collapsed": true
   },
   "outputs": [],
   "source": [
    "model.compile(loss=\"categorical_crossentropy\", optimizer=\"sgd\", metrics=[\"acc\"])"
   ]
  },
  {
   "cell_type": "markdown",
   "metadata": {},
   "source": [
    "Now we can fit our model! We pass in our training data (remember that the label is in the last column, and we don't want to include that here!) and our one-hot encoded labels, as well as:\n",
    "* The number of `epochs` to train for, or the total number of times that all our training data gets passed through the network\n",
    "* A \"batch size\" - the parameters in the network get updated after each `batch_size` observations have been passed through\n",
    "* A proportion of the data which we'll set aside and use to assess our model's generalised performance (because a model can usually make great predictions about the data that's been used to train it, but it might not do so well on data it hasn't seen before)"
   ]
  },
  {
   "cell_type": "code",
   "execution_count": 11,
   "metadata": {
    "scrolled": true
   },
   "outputs": [
    {
     "name": "stdout",
     "output_type": "stream",
     "text": [
      "Train on 120 samples, validate on 30 samples\n",
      "Epoch 1/50\n",
      "120/120 [==============================] - 0s 3ms/step - loss: 1.1625 - acc: 0.3083 - val_loss: 1.1106 - val_acc: 0.3333\n",
      "Epoch 2/50\n",
      "120/120 [==============================] - 0s 117us/step - loss: 1.1377 - acc: 0.3000 - val_loss: 1.1006 - val_acc: 0.3333\n",
      "Epoch 3/50\n",
      "120/120 [==============================] - 0s 100us/step - loss: 1.1167 - acc: 0.3167 - val_loss: 1.0926 - val_acc: 0.3000\n",
      "Epoch 4/50\n",
      "120/120 [==============================] - 0s 175us/step - loss: 1.1013 - acc: 0.3250 - val_loss: 1.0861 - val_acc: 0.3333\n",
      "Epoch 5/50\n",
      "120/120 [==============================] - 0s 175us/step - loss: 1.0848 - acc: 0.3750 - val_loss: 1.0803 - val_acc: 0.2667\n",
      "Epoch 6/50\n",
      "120/120 [==============================] - 0s 167us/step - loss: 1.0729 - acc: 0.4083 - val_loss: 1.0748 - val_acc: 0.2333\n",
      "Epoch 7/50\n",
      "120/120 [==============================] - 0s 134us/step - loss: 1.0629 - acc: 0.3583 - val_loss: 1.0697 - val_acc: 0.2333\n",
      "Epoch 8/50\n",
      "120/120 [==============================] - 0s 134us/step - loss: 1.0536 - acc: 0.3750 - val_loss: 1.0646 - val_acc: 0.2333\n",
      "Epoch 9/50\n",
      "120/120 [==============================] - 0s 150us/step - loss: 1.0455 - acc: 0.4000 - val_loss: 1.0600 - val_acc: 0.2333\n",
      "Epoch 10/50\n",
      "120/120 [==============================] - 0s 109us/step - loss: 1.0388 - acc: 0.3750 - val_loss: 1.0556 - val_acc: 0.2333\n",
      "Epoch 11/50\n",
      "120/120 [==============================] - 0s 175us/step - loss: 1.0319 - acc: 0.3583 - val_loss: 1.0510 - val_acc: 0.2333\n",
      "Epoch 12/50\n",
      "120/120 [==============================] - 0s 184us/step - loss: 1.0250 - acc: 0.3833 - val_loss: 1.0469 - val_acc: 0.2333\n",
      "Epoch 13/50\n",
      "120/120 [==============================] - 0s 117us/step - loss: 1.0190 - acc: 0.3750 - val_loss: 1.0429 - val_acc: 0.2333\n",
      "Epoch 14/50\n",
      "120/120 [==============================] - 0s 150us/step - loss: 1.0143 - acc: 0.3833 - val_loss: 1.0384 - val_acc: 0.2333\n",
      "Epoch 15/50\n",
      "120/120 [==============================] - 0s 159us/step - loss: 1.0093 - acc: 0.4167 - val_loss: 1.0343 - val_acc: 0.3000\n",
      "Epoch 16/50\n",
      "120/120 [==============================] - 0s 209us/step - loss: 1.0044 - acc: 0.5083 - val_loss: 1.0307 - val_acc: 0.4000\n",
      "Epoch 17/50\n",
      "120/120 [==============================] - 0s 125us/step - loss: 0.9997 - acc: 0.6583 - val_loss: 1.0271 - val_acc: 0.5333\n",
      "Epoch 18/50\n",
      "120/120 [==============================] - 0s 109us/step - loss: 0.9954 - acc: 0.7083 - val_loss: 1.0231 - val_acc: 0.5333\n",
      "Epoch 19/50\n",
      "120/120 [==============================] - 0s 117us/step - loss: 0.9900 - acc: 0.7167 - val_loss: 1.0193 - val_acc: 0.5333\n",
      "Epoch 20/50\n",
      "120/120 [==============================] - 0s 84us/step - loss: 0.9860 - acc: 0.7417 - val_loss: 1.0159 - val_acc: 0.5333\n",
      "Epoch 21/50\n",
      "120/120 [==============================] - 0s 92us/step - loss: 0.9820 - acc: 0.7250 - val_loss: 1.0123 - val_acc: 0.5667\n",
      "Epoch 22/50\n",
      "120/120 [==============================] - 0s 100us/step - loss: 0.9781 - acc: 0.7250 - val_loss: 1.0085 - val_acc: 0.5667\n",
      "Epoch 23/50\n",
      "120/120 [==============================] - 0s 92us/step - loss: 0.9744 - acc: 0.7167 - val_loss: 1.0045 - val_acc: 0.5333\n",
      "Epoch 24/50\n",
      "120/120 [==============================] - 0s 109us/step - loss: 0.9701 - acc: 0.7333 - val_loss: 1.0011 - val_acc: 0.5667\n",
      "Epoch 25/50\n",
      "120/120 [==============================] - 0s 100us/step - loss: 0.9666 - acc: 0.7250 - val_loss: 0.9970 - val_acc: 0.5333\n",
      "Epoch 26/50\n",
      "120/120 [==============================] - 0s 100us/step - loss: 0.9628 - acc: 0.7167 - val_loss: 0.9930 - val_acc: 0.5333\n",
      "Epoch 27/50\n",
      "120/120 [==============================] - 0s 100us/step - loss: 0.9582 - acc: 0.7417 - val_loss: 0.9897 - val_acc: 0.5667\n",
      "Epoch 28/50\n",
      "120/120 [==============================] - 0s 100us/step - loss: 0.9550 - acc: 0.7250 - val_loss: 0.9867 - val_acc: 0.5667\n",
      "Epoch 29/50\n",
      "120/120 [==============================] - 0s 125us/step - loss: 0.9507 - acc: 0.7333 - val_loss: 0.9831 - val_acc: 0.5667\n",
      "Epoch 30/50\n",
      "120/120 [==============================] - 0s 92us/step - loss: 0.9477 - acc: 0.7333 - val_loss: 0.9796 - val_acc: 0.5667\n",
      "Epoch 31/50\n",
      "120/120 [==============================] - 0s 92us/step - loss: 0.9443 - acc: 0.7167 - val_loss: 0.9755 - val_acc: 0.5667\n",
      "Epoch 32/50\n",
      "120/120 [==============================] - 0s 100us/step - loss: 0.9412 - acc: 0.7417 - val_loss: 0.9722 - val_acc: 0.5667\n",
      "Epoch 33/50\n",
      "120/120 [==============================] - 0s 92us/step - loss: 0.9369 - acc: 0.7417 - val_loss: 0.9689 - val_acc: 0.5667\n",
      "Epoch 34/50\n",
      "120/120 [==============================] - 0s 92us/step - loss: 0.9330 - acc: 0.7417 - val_loss: 0.9655 - val_acc: 0.5667\n",
      "Epoch 35/50\n",
      "120/120 [==============================] - 0s 92us/step - loss: 0.9310 - acc: 0.7333 - val_loss: 0.9616 - val_acc: 0.5667\n",
      "Epoch 36/50\n",
      "120/120 [==============================] - 0s 109us/step - loss: 0.9267 - acc: 0.7417 - val_loss: 0.9586 - val_acc: 0.5667\n",
      "Epoch 37/50\n",
      "120/120 [==============================] - 0s 84us/step - loss: 0.9233 - acc: 0.7333 - val_loss: 0.9545 - val_acc: 0.5667\n",
      "Epoch 38/50\n",
      "120/120 [==============================] - 0s 100us/step - loss: 0.9191 - acc: 0.7333 - val_loss: 0.9507 - val_acc: 0.5667\n",
      "Epoch 39/50\n",
      "120/120 [==============================] - 0s 109us/step - loss: 0.9166 - acc: 0.7417 - val_loss: 0.9470 - val_acc: 0.5333\n",
      "Epoch 40/50\n",
      "120/120 [==============================] - 0s 100us/step - loss: 0.9127 - acc: 0.7333 - val_loss: 0.9432 - val_acc: 0.5333\n",
      "Epoch 41/50\n",
      "120/120 [==============================] - 0s 100us/step - loss: 0.9099 - acc: 0.7667 - val_loss: 0.9403 - val_acc: 0.5667\n",
      "Epoch 42/50\n",
      "120/120 [==============================] - 0s 100us/step - loss: 0.9059 - acc: 0.7417 - val_loss: 0.9367 - val_acc: 0.5333\n",
      "Epoch 43/50\n",
      "120/120 [==============================] - 0s 92us/step - loss: 0.9022 - acc: 0.7417 - val_loss: 0.9332 - val_acc: 0.5333\n",
      "Epoch 44/50\n",
      "120/120 [==============================] - 0s 84us/step - loss: 0.8996 - acc: 0.7500 - val_loss: 0.9297 - val_acc: 0.5333\n",
      "Epoch 45/50\n",
      "120/120 [==============================] - 0s 100us/step - loss: 0.8964 - acc: 0.7500 - val_loss: 0.9266 - val_acc: 0.5333\n",
      "Epoch 46/50\n",
      "120/120 [==============================] - 0s 100us/step - loss: 0.8925 - acc: 0.7583 - val_loss: 0.9231 - val_acc: 0.5333\n",
      "Epoch 47/50\n",
      "120/120 [==============================] - 0s 100us/step - loss: 0.8897 - acc: 0.7583 - val_loss: 0.9200 - val_acc: 0.5333\n",
      "Epoch 48/50\n",
      "120/120 [==============================] - 0s 92us/step - loss: 0.8857 - acc: 0.7417 - val_loss: 0.9164 - val_acc: 0.5333\n",
      "Epoch 49/50\n",
      "120/120 [==============================] - 0s 84us/step - loss: 0.8829 - acc: 0.7500 - val_loss: 0.9132 - val_acc: 0.5333\n",
      "Epoch 50/50\n",
      "120/120 [==============================] - 0s 109us/step - loss: 0.8801 - acc: 0.7667 - val_loss: 0.9102 - val_acc: 0.5333\n"
     ]
    },
    {
     "data": {
      "text/plain": [
       "<keras.callbacks.History at 0x2b023a0fc50>"
      ]
     },
     "execution_count": 11,
     "metadata": {},
     "output_type": "execute_result"
    }
   ],
   "source": [
    "model.fit(iris[:, :4], iris_onehot, epochs=50, batch_size=20, validation_split=0.2)"
   ]
  },
  {
   "cell_type": "markdown",
   "metadata": {},
   "source": [
    "Notice that the loss keeps dropping, and the accuracy fluctuates but generally speaking increases for both the training and validation sets.\n",
    "\n",
    "So, that's the syntax, but let's be honest - it's a rubbish boring network and a rubbish boring dataset. Let's move on to something more interesting!"
   ]
  },
  {
   "cell_type": "markdown",
   "metadata": {
    "collapsed": true
   },
   "source": [
    "---"
   ]
  },
  {
   "cell_type": "markdown",
   "metadata": {},
   "source": [
    "## Look who's walking"
   ]
  },
  {
   "cell_type": "markdown",
   "metadata": {},
   "source": [
    "Let's load in the data we're going to use and check its dimensions, which is always a good thing to do.\n",
    "\n",
    "The original dataset is from [here](https://archive.ics.uci.edu/ml/datasets/Activity+Recognition+from+Single+Chest-Mounted+Accelerometer); see [walking_data_prep.ipynb](data_prep.ipynb) for details on how this data was prepared for use here."
   ]
  },
  {
   "cell_type": "code",
   "execution_count": 12,
   "metadata": {},
   "outputs": [
    {
     "data": {
      "text/plain": [
       "(6792, 260, 3)"
      ]
     },
     "execution_count": 12,
     "metadata": {},
     "output_type": "execute_result"
    }
   ],
   "source": [
    "walking = np.load(\"data/walking_data.npy\")\n",
    "walking.shape"
   ]
  },
  {
   "cell_type": "markdown",
   "metadata": {},
   "source": [
    "What? Three dimensions? Rows, columns and... huh??\n",
    "\n",
    "Don't panic. We have:\n",
    "* Observations - same as usual!\n",
    "* Timesteps - each column corresponds to one timestep, and together they form a time series. In this case we have 260 timesteps, forming a time series representing 5 seconds of measurements (because the samples were made at 52Hz).\n",
    "* Channels - at each timestep there are three values, one for the acceleration measurement in each of the x, y and z directions.\n",
    "\n",
    "As an important first step, let's work out how to visualise this data. We'll use `matplotlib` for our plotting."
   ]
  },
  {
   "cell_type": "code",
   "execution_count": 13,
   "metadata": {
    "collapsed": true
   },
   "outputs": [],
   "source": [
    "import matplotlib.pyplot as plt\n",
    "%matplotlib inline"
   ]
  },
  {
   "cell_type": "markdown",
   "metadata": {},
   "source": [
    "We'll plot one observation at a time. One observation is one \"row\" of our dataset, but remember that every \"row\" is 3 channels deep. We'll plot each channel individually but on the same graph..."
   ]
  },
  {
   "cell_type": "code",
   "execution_count": 14,
   "metadata": {
    "collapsed": true
   },
   "outputs": [],
   "source": [
    "def plot_series(series):\n",
    "    # x-channel\n",
    "    plt.plot(series[:, 0], color=\"red\")\n",
    "    # y-channel\n",
    "    plt.plot(series[:, 1], color=\"green\")\n",
    "    # z-channel\n",
    "    plt.plot(series[:, 2], color=\"blue\")"
   ]
  },
  {
   "cell_type": "markdown",
   "metadata": {},
   "source": [
    "So now we just pass in one observation from our data (one row, all timesteps and all channels)."
   ]
  },
  {
   "cell_type": "code",
   "execution_count": 15,
   "metadata": {
    "scrolled": true
   },
   "outputs": [
    {
     "data": {
      "image/png": "[encoded data removed]",
      "text/plain": [
       "<matplotlib.figure.Figure at 0x2b026ceb908>"
      ]
     },
     "metadata": {},
     "output_type": "display_data"
    }
   ],
   "source": [
    "plot_series(walking[100, :, :])"
   ]
  },
  {
   "cell_type": "markdown",
   "metadata": {},
   "source": [
    "Great! But now we come to an interesting question... can we, intelligent humans, tell between different people's data by eye?\n",
    "\n",
    "Let's plot a few series for some different people - say, 5 series for 3 people."
   ]
  },
  {
   "cell_type": "markdown",
   "metadata": {},
   "source": [
    "![](images/three_people.png)"
   ]
  },
  {
   "cell_type": "markdown",
   "metadata": {},
   "source": [
    "It doesn't look like this is an easy problem for us to solve, even with our big human brains. Maybe the computer will be able to give us a run for our money...\n",
    "\n",
    "\n",
    "So we have our data; now we need our labels. Each observation comes from one of 15 people so we can quickly check that we have 15 labels."
   ]
  },
  {
   "cell_type": "code",
   "execution_count": 16,
   "metadata": {},
   "outputs": [
    {
     "data": {
      "text/plain": [
       "{0, 1, 2, 3, 4, 5, 6, 7, 8, 9, 10, 11, 12, 13, 14}"
      ]
     },
     "execution_count": 16,
     "metadata": {},
     "output_type": "execute_result"
    }
   ],
   "source": [
    "walking_labels = np.load(\"data/walking_labels.npy\")\n",
    "set(walking_labels)"
   ]
  },
  {
   "cell_type": "markdown",
   "metadata": {},
   "source": [
    "The time has come to split our data, but we'll have to use a slightly different tactic to the `iris` example earlier, because our labels are already separated.\n",
    "\n",
    "We'll split the row indices into three sets - a 60:20:20 split into training, cross-validation and test sets."
   ]
  },
  {
   "cell_type": "code",
   "execution_count": 17,
   "metadata": {
    "collapsed": true
   },
   "outputs": [],
   "source": [
    "m = walking.shape[0]\n",
    "indices = [x for x in range(m)]\n",
    "np.random.shuffle(indices)\n",
    "train_indices = indices[:int(m*0.6)]\n",
    "val_indices = indices[int(m*0.6):int(m*0.8)]\n",
    "test_indices = indices[int(m*0.8):]"
   ]
  },
  {
   "cell_type": "markdown",
   "metadata": {},
   "source": [
    "Now we can use these indices to partition both our data and our labels, remembering that we need to one-hot encode the labels!"
   ]
  },
  {
   "cell_type": "code",
   "execution_count": 18,
   "metadata": {
    "collapsed": true
   },
   "outputs": [],
   "source": [
    "X_train = walking[train_indices, :, :]\n",
    "X_val = walking[val_indices, :, :]\n",
    "X_test = walking[test_indices, :, :]\n",
    "\n",
    "y_train = to_categorical(walking_labels[train_indices])\n",
    "y_val = to_categorical(walking_labels[val_indices])\n",
    "y_test = to_categorical(walking_labels[test_indices])"
   ]
  },
  {
   "cell_type": "markdown",
   "metadata": {},
   "source": [
    "## A more interesting network"
   ]
  },
  {
   "cell_type": "markdown",
   "metadata": {},
   "source": [
    "Of course, to start with, we need a model."
   ]
  },
  {
   "cell_type": "code",
   "execution_count": 19,
   "metadata": {
    "collapsed": true
   },
   "outputs": [],
   "source": [
    "model = Sequential()"
   ]
  },
  {
   "cell_type": "markdown",
   "metadata": {},
   "source": [
    "And we're gonna need some more layers..."
   ]
  },
  {
   "cell_type": "code",
   "execution_count": 20,
   "metadata": {
    "collapsed": true
   },
   "outputs": [],
   "source": [
    "from keras.layers import Conv1D, MaxPooling1D, Flatten"
   ]
  },
  {
   "cell_type": "markdown",
   "metadata": {},
   "source": [
    "Our first layer is going to be a **convolutional layer**. Instead of looking at the whole set of features (timesteps) in one go, this layer looks at a moving \"window\" of features, so it's great for identifying patterns which are repeated, or pattern which appear often but in not necessarily in the same place every time.\n",
    "\n",
    "The \"dimensionality\" of the convolutional window depends on how we want to move this window, which depends on our data. Here, we have time series data, which we can move \"along\", forwards and backwards, in _one_ dimension; so we use 1D convolution. If we had images instead, we could move the window in _two_ dimensions (left-right and up-down), so it would make more sense to use 2D convolution.\n",
    "\n",
    "We need to pass some arguments into this convolutional layer:\n",
    "\n",
    "* `filters`: Like `units` in a dense layer - the number of \"features\" we want to learn, or number of patterns to try to identify.\n",
    "* `kernel_size`: The \"window\" we were just talking about is officially called a **kernel**. We use at a rolling window capturing [`kernel_size`] timesteps at once.\n",
    "* `strides`: How many time steps to \"roll forward\" each time we move the window. The larger we set it, the fewer snapshots of our series the kernel will see, so the fewer output neurons will be created.\n",
    "* `activation`: Just like in the dense layer earlier, except convolutional layers typically use the REctified Linear Unit activation function because it works well and is fast to train\n",
    "* `input_shape`: Remember, the first layer always needs an input shape so it knows what data it is expecting! This time, we're feeding in observations each of shape ({260 timesteps}, {3 directional acceleration channels})\n",
    "\n",
    "If we want to get fancy, we can call these arguments **hyperparameters** of our network. The **parameters** are hidden away inside the neurons in each layer, and they get updated during training. The hyperparameters are set by us, and control the shape and behaviour of the network."
   ]
  },
  {
   "cell_type": "code",
   "execution_count": 21,
   "metadata": {
    "collapsed": true
   },
   "outputs": [],
   "source": [
    "model.add(Conv1D(filters=30, kernel_size=40, strides=2, activation=\"relu\", input_shape=(260, 3)))"
   ]
  },
  {
   "cell_type": "markdown",
   "metadata": {},
   "source": [
    "Next, we'll add a \"subsampling\" layer. This type of layer groups neurons up based on their position, and then combines them, thereby reducing the number of neurons that pass forward into the next layer.\n",
    "\n",
    "This has two main effects:\n",
    "* With fewer neurons, the number of _parameters_ in the following layers of the network is reduced; so there's less updating to be done after each batch, and the network will be less computationally-intensive (i.e. faster!) to train.\n",
    "* We reduce the chances of learning to recognise super-specific features (and then relying on them later on for our classifications), because we're combining bits and pieces from different neurons. This means our network should generalise better to making predictions on data outside our training set.\n",
    "\n",
    "We're using \"max pooling\" as our subsampling tactic, which just takes the strongest neuron from each \"pool\" (i.e. the one with the highest activation)."
   ]
  },
  {
   "cell_type": "code",
   "execution_count": 22,
   "metadata": {
    "collapsed": true
   },
   "outputs": [],
   "source": [
    "model.add(MaxPooling1D(pool_size=2))"
   ]
  },
  {
   "cell_type": "markdown",
   "metadata": {},
   "source": [
    "But... _why_ have we just added a convolutional layer and then a pooling layer? Why didn't we add another convolutional layer first? Why did we pair neurons up, instead of combining 3 at a time?\n",
    "\n",
    "These are all valid questions.\n",
    "\n",
    "The fun, slightly artistic part of building a deep learning model is deciding which layers to add, how big to make them, which hyperparameters to adjust, how to adjust them, when to adjust them, ...\n",
    "\n",
    "There are a few common rules-of-thumb though. The conv-pool combo we've just seen is very common - convolutional layers add a load of new parameters to the model, and then pooling layers (or other subsampling layers, such as \"dropout\") strip the new neurons down and help prevent overfitting.\n",
    "\n",
    "We're going to add another conv-pool pair of layers to our model. The neurons in the first convolutional layer will learn to respond to patterns in our time series data. The neurons in the _second_ convolutional layer will learn to respond to patterns in the (pooled) output of the _first_ layer - so it's responding to _meta-patterns_ in the original data."
   ]
  },
  {
   "cell_type": "code",
   "execution_count": 23,
   "metadata": {
    "collapsed": true
   },
   "outputs": [],
   "source": [
    "model.add(Conv1D(filters=30, kernel_size=10, activation=\"relu\"))\n",
    "model.add(MaxPooling1D(pool_size=2))"
   ]
  },
  {
   "cell_type": "markdown",
   "metadata": {},
   "source": [
    "Let's pause for a moment and check the shape of the data which is coming out of the last layer of the network right now."
   ]
  },
  {
   "cell_type": "code",
   "execution_count": 24,
   "metadata": {},
   "outputs": [
    {
     "data": {
      "text/plain": [
       "(None, 23, 30)"
      ]
     },
     "execution_count": 24,
     "metadata": {},
     "output_type": "execute_result"
    }
   ],
   "source": [
    "model.output_shape"
   ]
  },
  {
   "cell_type": "markdown",
   "metadata": {},
   "source": [
    "Notice anything?\n",
    "\n",
    "Yeah, it's still in 3D: some number of rows (which Keras represents with `None`, because we could feed in any number of observations!), some \"features\" (loosely related to our original timesteps, but twisted beyond recognition by the conv/pool layers), and some \"filters\" (the number which we set in the latest conv layer).\n",
    "\n",
    "But if we think about what we want to predict... that's in 2D! Some number of rows, where each one is a one-hot label.\n",
    "\n",
    "So we somehow need to _flatten_ our network by taking all those stacked-up parameters and laying them out next to each other in a big long line.\n",
    "\n",
    "This is Keras though, so it's easy to do that..."
   ]
  },
  {
   "cell_type": "code",
   "execution_count": 25,
   "metadata": {
    "collapsed": true
   },
   "outputs": [],
   "source": [
    "model.add(Flatten())"
   ]
  },
  {
   "cell_type": "markdown",
   "metadata": {},
   "source": [
    "And now if we check the shape again:"
   ]
  },
  {
   "cell_type": "code",
   "execution_count": 26,
   "metadata": {
    "scrolled": true
   },
   "outputs": [
    {
     "data": {
      "text/plain": [
       "(None, 690)"
      ]
     },
     "execution_count": 26,
     "metadata": {},
     "output_type": "execute_result"
    }
   ],
   "source": [
    "model.output_shape"
   ]
  },
  {
   "cell_type": "markdown",
   "metadata": {},
   "source": [
    "We have the same size of output as before, just reshaped!\n",
    "\n",
    "Now we can finish off by feeding this into a couple of dense layers. The first one will learn relationships between the now-flattened convolutional neurons, and the second produces the (one-hot) prediction."
   ]
  },
  {
   "cell_type": "code",
   "execution_count": 27,
   "metadata": {
    "collapsed": true,
    "scrolled": true
   },
   "outputs": [],
   "source": [
    "model.add(Dense(100, activation=\"sigmoid\"))\n",
    "model.add(Dense(15, activation=\"softmax\"))"
   ]
  },
  {
   "cell_type": "markdown",
   "metadata": {},
   "source": [
    "Let's take a step back and admire our handiwork."
   ]
  },
  {
   "cell_type": "code",
   "execution_count": 28,
   "metadata": {},
   "outputs": [
    {
     "name": "stdout",
     "output_type": "stream",
     "text": [
      "_________________________________________________________________\n",
      "Layer (type)                 Output Shape              Param #   \n",
      "=================================================================\n",
      "conv1d_1 (Conv1D)            (None, 111, 30)           3630      \n",
      "_________________________________________________________________\n",
      "max_pooling1d_1 (MaxPooling1 (None, 55, 30)            0         \n",
      "_________________________________________________________________\n",
      "conv1d_2 (Conv1D)            (None, 46, 30)            9030      \n",
      "_________________________________________________________________\n",
      "max_pooling1d_2 (MaxPooling1 (None, 23, 30)            0         \n",
      "_________________________________________________________________\n",
      "flatten_1 (Flatten)          (None, 690)               0         \n",
      "_________________________________________________________________\n",
      "dense_3 (Dense)              (None, 100)               69100     \n",
      "_________________________________________________________________\n",
      "dense_4 (Dense)              (None, 15)                1515      \n",
      "=================================================================\n",
      "Total params: 83,275\n",
      "Trainable params: 83,275\n",
      "Non-trainable params: 0\n",
      "_________________________________________________________________\n"
     ]
    }
   ],
   "source": [
    "model.summary()"
   ]
  },
  {
   "cell_type": "markdown",
   "metadata": {},
   "source": [
    "Wow. Give yourself a pat on the back. That looks pretty darned good."
   ]
  },
  {
   "cell_type": "markdown",
   "metadata": {},
   "source": [
    "## Training and results"
   ]
  },
  {
   "cell_type": "markdown",
   "metadata": {},
   "source": [
    "Remember that before we can train our network, we have to compile it! This time is just like before, except we're going to use the faster fancier \"ADAptive Movement estimation\" optimizer instead of gradient descent."
   ]
  },
  {
   "cell_type": "code",
   "execution_count": 29,
   "metadata": {
    "collapsed": true
   },
   "outputs": [],
   "source": [
    "model.compile(loss=\"categorical_crossentropy\", optimizer=\"adam\", metrics=[\"accuracy\"])"
   ]
  },
  {
   "cell_type": "markdown",
   "metadata": {},
   "source": [
    "And now we fit the model on our training data - again, almost identical to last time, except we'll explicitly pass in our validation data rather than taking a split from the training data."
   ]
  },
  {
   "cell_type": "code",
   "execution_count": 30,
   "metadata": {
    "scrolled": true
   },
   "outputs": [
    {
     "name": "stdout",
     "output_type": "stream",
     "text": [
      "Train on 4075 samples, validate on 1358 samples\n",
      "Epoch 1/10\n",
      "4075/4075 [==============================] - 2s 611us/step - loss: 2.4758 - acc: 0.2390 - val_loss: 1.8865 - val_acc: 0.4418\n",
      "Epoch 2/10\n",
      "4075/4075 [==============================] - 2s 520us/step - loss: 1.3637 - acc: 0.6452 - val_loss: 0.9997 - val_acc: 0.7452\n",
      "Epoch 3/10\n",
      "4075/4075 [==============================] - 2s 516us/step - loss: 0.7751 - acc: 0.8177 - val_loss: 0.6573 - val_acc: 0.8255\n",
      "Epoch 4/10\n",
      "4075/4075 [==============================] - 2s 513us/step - loss: 0.5505 - acc: 0.8650 - val_loss: 0.5143 - val_acc: 0.8763\n",
      "Epoch 5/10\n",
      "4075/4075 [==============================] - 2s 512us/step - loss: 0.4224 - acc: 0.8991 - val_loss: 0.4399 - val_acc: 0.8881\n",
      "Epoch 6/10\n",
      "4075/4075 [==============================] - 2s 510us/step - loss: 0.3441 - acc: 0.9190 - val_loss: 0.3833 - val_acc: 0.9102\n",
      "Epoch 7/10\n",
      "4075/4075 [==============================] - 2s 509us/step - loss: 0.2813 - acc: 0.9391 - val_loss: 0.3344 - val_acc: 0.9168\n",
      "Epoch 8/10\n",
      "4075/4075 [==============================] - 2s 509us/step - loss: 0.2328 - acc: 0.9517 - val_loss: 0.3037 - val_acc: 0.9197\n",
      "Epoch 9/10\n",
      "4075/4075 [==============================] - 2s 529us/step - loss: 0.1941 - acc: 0.9620 - val_loss: 0.2890 - val_acc: 0.9197\n",
      "Epoch 10/10\n",
      "4075/4075 [==============================] - 2s 514us/step - loss: 0.1602 - acc: 0.9752 - val_loss: 0.2592 - val_acc: 0.9323\n"
     ]
    },
    {
     "data": {
      "text/plain": [
       "<keras.callbacks.History at 0x2b02cc63f60>"
      ]
     },
     "execution_count": 30,
     "metadata": {},
     "output_type": "execute_result"
    }
   ],
   "source": [
    "model.fit(X_train, y_train, epochs=10, batch_size=100, validation_data=(X_val, y_val))"
   ]
  },
  {
   "cell_type": "markdown",
   "metadata": {},
   "source": [
    "Not too shabby! Look at that lovely increase in validation-set accuracy. (But remember that it's the loss function that directs the training!)\n",
    "\n",
    "At this point we could try to improve that cross-validation accuracy score by changing the network structure, messing around with other layers, adjusting hyperparameters... and then once we're happy, we can assess the final performance of our model!\n",
    "\n",
    "We'll use a couple of tools from `scikit-learn` to help us out."
   ]
  },
  {
   "cell_type": "code",
   "execution_count": 31,
   "metadata": {
    "collapsed": true
   },
   "outputs": [],
   "source": [
    "from sklearn.metrics import classification_report, confusion_matrix"
   ]
  },
  {
   "cell_type": "markdown",
   "metadata": {},
   "source": [
    "First we can use our model to make predictions on the test set (which we haven't touched yet, because we've been saving it for exactly this purpose!)."
   ]
  },
  {
   "cell_type": "code",
   "execution_count": 32,
   "metadata": {
    "collapsed": true
   },
   "outputs": [],
   "source": [
    "y_pred = model.predict_classes(X_test)"
   ]
  },
  {
   "cell_type": "markdown",
   "metadata": {},
   "source": [
    "Then we can see how well we've done! But remember that our test labels are one-hot encoded. We can use `np.argmax()` to convert back to integer labels: we just need to look across the 1-axis (the columns, as opposed to the rows, which are the 0-axis) and pick the index of the highest value in each row (i.e. the position of the 1 among all the 0s).\n",
    "\n",
    "Generally speaking, we want the metrics in the classification report to be close to 1, and we want high values on the diagonal of the confusion matrix (indicating that our predicted labels, in the columns, match the actual values, in the rows)."
   ]
  },
  {
   "cell_type": "code",
   "execution_count": 33,
   "metadata": {
    "scrolled": true
   },
   "outputs": [
    {
     "name": "stdout",
     "output_type": "stream",
     "text": [
      "             precision    recall  f1-score   support\n",
      "\n",
      "          0       0.89      0.99      0.93        94\n",
      "          1       0.93      0.88      0.91        94\n",
      "          2       0.98      0.87      0.92        75\n",
      "          3       0.99      0.94      0.96       113\n",
      "          4       0.96      0.91      0.94        58\n",
      "          5       0.95      0.98      0.97       129\n",
      "          6       0.88      0.92      0.90        65\n",
      "          7       0.85      0.78      0.82        79\n",
      "          8       0.94      0.97      0.96       104\n",
      "          9       0.84      0.86      0.85        81\n",
      "         10       0.99      1.00      1.00       101\n",
      "         11       0.89      0.81      0.85        84\n",
      "         12       0.98      0.94      0.96       109\n",
      "         13       0.85      0.96      0.90        80\n",
      "         14       0.90      0.95      0.92        93\n",
      "\n",
      "avg / total       0.93      0.92      0.92      1359\n",
      "\n",
      "[[ 93   0   0   0   0   0   0   0   0   0   0   0   0   1   0]\n",
      " [  0  83   0   0   0   0   0   2   2   0   0   0   0   7   0]\n",
      " [  0   0  65   0   1   1   0   0   0   2   1   0   0   0   5]\n",
      " [  4   0   0 106   0   3   0   0   0   0   0   0   0   0   0]\n",
      " [  0   0   0   0  53   0   2   0   2   0   0   0   0   0   1]\n",
      " [  0   0   0   1   0 127   0   0   0   1   0   0   0   0   0]\n",
      " [  3   0   0   0   0   0  60   0   0   2   0   0   0   0   0]\n",
      " [  0   3   1   0   0   0   2  62   1   1   0   7   1   1   0]\n",
      " [  1   0   0   0   1   0   1   0 101   0   0   0   0   0   0]\n",
      " [  4   0   0   0   0   1   0   0   0  70   0   1   1   1   3]\n",
      " [  0   0   0   0   0   0   0   0   0   0 101   0   0   0   0]\n",
      " [  0   1   0   0   0   0   1   8   0   1   0  68   0   4   1]\n",
      " [  0   0   0   0   0   0   1   0   0   5   0   0 103   0   0]\n",
      " [  0   2   0   0   0   0   0   1   0   0   0   0   0  77   0]\n",
      " [  0   0   0   0   0   2   1   0   1   1   0   0   0   0  88]]\n"
     ]
    }
   ],
   "source": [
    "print(classification_report(np.argmax(y_test, axis=1), y_pred))\n",
    "print(confusion_matrix(np.argmax(y_test, axis=1), y_pred))"
   ]
  },
  {
   "cell_type": "markdown",
   "metadata": {},
   "source": [
    "---"
   ]
  },
  {
   "cell_type": "markdown",
   "metadata": {},
   "source": [
    "## Opening the black box"
   ]
  },
  {
   "cell_type": "markdown",
   "metadata": {},
   "source": [
    "We hope that during training, the neurons in the network will learn to respond to certain patterns in the data which they receive as input. A neuron will \"respond\" when its weights line up nicely with the input data - so by treating these weights as series in their own right, we can see what the input to each neuron which would produce the biggest response would look like.\n",
    "\n",
    "Extending our `plot_series()` function from earlier, we can use it to grab the weights from a particular neuron in a model, and then plot them as a time series."
   ]
  },
  {
   "cell_type": "code",
   "execution_count": 34,
   "metadata": {
    "collapsed": true
   },
   "outputs": [],
   "source": [
    "def plot_filter(model, layer, k):\n",
    "    x = model.layers[layer].get_weights()[0][:, :, k]\n",
    "    plot_series(x)"
   ]
  },
  {
   "cell_type": "markdown",
   "metadata": {},
   "source": [
    "For example, taking the 0th layer in our current model (the first convolutional layer), and looking at the fifth neuron in it:"
   ]
  },
  {
   "cell_type": "code",
   "execution_count": 35,
   "metadata": {},
   "outputs": [
    {
     "data": {
      "image/png": "[encoded data removed]",
      "text/plain": [
       "<matplotlib.figure.Figure at 0x2b02ea4ff98>"
      ]
     },
     "metadata": {},
     "output_type": "display_data"
    }
   ],
   "source": [
    "plot_filter(model, 0, 4)"
   ]
  },
  {
   "cell_type": "markdown",
   "metadata": {
    "collapsed": true
   },
   "source": [
    "There does seem to be some sort of pattern in there, but it's a little bit hard to tell.\n",
    "\n",
    "We can confirm our suspicions by producing an \"autocorrelation plot\". To calculate the autocorrelation, we take two copies of the series and line the end of one up with the start of the next. Then we slide one series over the top of the other. The closer the two series are to each other at a given point, the higher the correlation, with a perfect score of 1 at the point where the two copies are directly on top of each other. If there are repeating patterns in the series, we should see smooth curves in the autocorrelation plot, with peaks where the repeated patterns line up nicely with the original (like echos!)."
   ]
  },
  {
   "cell_type": "code",
   "execution_count": 36,
   "metadata": {
    "collapsed": true
   },
   "outputs": [],
   "source": [
    "def plot_filter_corr(model, layer, k):\n",
    "    weights = model.layers[layer].get_weights()[0][:, :, k]\n",
    "    corrs = np.apply_along_axis(lambda y: np.correlate(y, y, mode=\"full\"), 0, weights)\n",
    "    plot_series(corrs[corrs.shape[0]//2:, :])"
   ]
  },
  {
   "cell_type": "code",
   "execution_count": 37,
   "metadata": {},
   "outputs": [
    {
     "data": {
      "image/png": "[encoded data removed]",
      "text/plain": [
       "<matplotlib.figure.Figure at 0x2b02ea6e198>"
      ]
     },
     "metadata": {},
     "output_type": "display_data"
    }
   ],
   "source": [
    "plot_filter_corr(model, 0, 4)"
   ]
  },
  {
   "cell_type": "markdown",
   "metadata": {},
   "source": [
    "Nice! Let's see a few filters alongside their autocorrelation plots."
   ]
  },
  {
   "cell_type": "markdown",
   "metadata": {
    "collapsed": true
   },
   "source": [
    "![](images/corrs.png)"
   ]
  },
  {
   "cell_type": "markdown",
   "metadata": {
    "collapsed": true
   },
   "source": [
    "This suggests that the neurons in the first convolutional layer have learned to recognise repeated patterns in the original time series. That's great! It means the neurons are most probably learning to recognise features that we would expect them to learn to recognise. And that's about as good as we can get when it comes to interpreting the features in black-box models like neural networks!"
   ]
  },
  {
   "cell_type": "markdown",
   "metadata": {},
   "source": [
    "---"
   ]
  },
  {
   "cell_type": "markdown",
   "metadata": {},
   "source": [
    "## Conv-clusion"
   ]
  },
  {
   "cell_type": "markdown",
   "metadata": {},
   "source": [
    "That's all we have time for here I'm afraid, but hopefully this has shown off some of the wonderful things which Keras (and deep learning in general) is capable of! Please do go away and look at this again, and make changes, and try things out, and break things, and figure out why they broke, and experiment some more, and keep learning!\n",
    "\n",
    "If you have questions about this workshop, Keras, neural networks or ML/data science in general - or if you just want a chat - you can get in touch with me at olj23@bath.ac.uk or on Twitter at @owenjonesuob. Thanks for your attention!"
   ]
  }
 ],
 "metadata": {
  "kernelspec": {
   "display_name": "Python 3",
   "language": "python",
   "name": "python3"
  },
  "language_info": {
   "codemirror_mode": {
    "name": "ipython",
    "version": 3
   },
   "file_extension": ".py",
   "mimetype": "text/x-python",
   "name": "python",
   "nbconvert_exporter": "python",
   "pygments_lexer": "ipython3",
   "version": "3.6.3"
  }
 },
 "nbformat": 4,
 "nbformat_minor": 2
}
