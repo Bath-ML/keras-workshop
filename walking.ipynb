{
 "cells": [
  {
   "cell_type": "markdown",
   "metadata": {},
   "source": [
    "## Deep learning with Keras: Chest accelerometer data"
   ]
  },
  {
   "cell_type": "markdown",
   "metadata": {},
   "source": [
    "Dataset from https://archive.ics.uci.edu/ml/datasets/Activity+Recognition+from+Single+Chest-Mounted+Accelerometer"
   ]
  },
  {
   "cell_type": "code",
   "execution_count": 1,
   "metadata": {
    "collapsed": true
   },
   "outputs": [],
   "source": [
    "# Set a seed for reproducibility\n",
    "import numpy as np\n",
    "seed = 42\n",
    "np.random.seed(seed)"
   ]
  },
  {
   "cell_type": "code",
   "execution_count": null,
   "metadata": {
    "collapsed": true
   },
   "outputs": [],
   "source": [
    "import keras"
   ]
  },
  {
   "cell_type": "code",
   "execution_count": 63,
   "metadata": {
    "collapsed": true
   },
   "outputs": [],
   "source": [
    "iris = np.load(\"data/iris_data.npy\")\n",
    "iris_labels = np.load(\"data/iris_labels.npy\")"
   ]
  },
  {
   "cell_type": "code",
   "execution_count": 71,
   "metadata": {},
   "outputs": [
    {
     "data": {
      "text/plain": [
       "array([[ 5.1,  3.5,  1.4,  0.2],\n",
       "       [ 4.9,  3. ,  1.4,  0.2],\n",
       "       [ 4.7,  3.2,  1.3,  0.2],\n",
       "       [ 4.6,  3.1,  1.5,  0.2],\n",
       "       [ 5. ,  3.6,  1.4,  0.2],\n",
       "       [ 5.4,  3.9,  1.7,  0.4],\n",
       "       [ 4.6,  3.4,  1.4,  0.3],\n",
       "       [ 5. ,  3.4,  1.5,  0.2],\n",
       "       [ 4.4,  2.9,  1.4,  0.2],\n",
       "       [ 4.9,  3.1,  1.5,  0.1],\n",
       "       [ 5.4,  3.7,  1.5,  0.2],\n",
       "       [ 4.8,  3.4,  1.6,  0.2],\n",
       "       [ 4.8,  3. ,  1.4,  0.1],\n",
       "       [ 4.3,  3. ,  1.1,  0.1],\n",
       "       [ 5.8,  4. ,  1.2,  0.2],\n",
       "       [ 5.7,  4.4,  1.5,  0.4],\n",
       "       [ 5.4,  3.9,  1.3,  0.4],\n",
       "       [ 5.1,  3.5,  1.4,  0.3],\n",
       "       [ 5.7,  3.8,  1.7,  0.3],\n",
       "       [ 5.1,  3.8,  1.5,  0.3],\n",
       "       [ 5.4,  3.4,  1.7,  0.2],\n",
       "       [ 5.1,  3.7,  1.5,  0.4],\n",
       "       [ 4.6,  3.6,  1. ,  0.2],\n",
       "       [ 5.1,  3.3,  1.7,  0.5],\n",
       "       [ 4.8,  3.4,  1.9,  0.2],\n",
       "       [ 5. ,  3. ,  1.6,  0.2],\n",
       "       [ 5. ,  3.4,  1.6,  0.4],\n",
       "       [ 5.2,  3.5,  1.5,  0.2],\n",
       "       [ 5.2,  3.4,  1.4,  0.2],\n",
       "       [ 4.7,  3.2,  1.6,  0.2],\n",
       "       [ 4.8,  3.1,  1.6,  0.2],\n",
       "       [ 5.4,  3.4,  1.5,  0.4],\n",
       "       [ 5.2,  4.1,  1.5,  0.1],\n",
       "       [ 5.5,  4.2,  1.4,  0.2],\n",
       "       [ 4.9,  3.1,  1.5,  0.1],\n",
       "       [ 5. ,  3.2,  1.2,  0.2],\n",
       "       [ 5.5,  3.5,  1.3,  0.2],\n",
       "       [ 4.9,  3.1,  1.5,  0.1],\n",
       "       [ 4.4,  3. ,  1.3,  0.2],\n",
       "       [ 5.1,  3.4,  1.5,  0.2],\n",
       "       [ 5. ,  3.5,  1.3,  0.3],\n",
       "       [ 4.5,  2.3,  1.3,  0.3],\n",
       "       [ 4.4,  3.2,  1.3,  0.2],\n",
       "       [ 5. ,  3.5,  1.6,  0.6],\n",
       "       [ 5.1,  3.8,  1.9,  0.4],\n",
       "       [ 4.8,  3. ,  1.4,  0.3],\n",
       "       [ 5.1,  3.8,  1.6,  0.2],\n",
       "       [ 4.6,  3.2,  1.4,  0.2],\n",
       "       [ 5.3,  3.7,  1.5,  0.2],\n",
       "       [ 5. ,  3.3,  1.4,  0.2],\n",
       "       [ 7. ,  3.2,  4.7,  1.4],\n",
       "       [ 6.4,  3.2,  4.5,  1.5],\n",
       "       [ 6.9,  3.1,  4.9,  1.5],\n",
       "       [ 5.5,  2.3,  4. ,  1.3],\n",
       "       [ 6.5,  2.8,  4.6,  1.5],\n",
       "       [ 5.7,  2.8,  4.5,  1.3],\n",
       "       [ 6.3,  3.3,  4.7,  1.6],\n",
       "       [ 4.9,  2.4,  3.3,  1. ],\n",
       "       [ 6.6,  2.9,  4.6,  1.3],\n",
       "       [ 5.2,  2.7,  3.9,  1.4],\n",
       "       [ 5. ,  2. ,  3.5,  1. ],\n",
       "       [ 5.9,  3. ,  4.2,  1.5],\n",
       "       [ 6. ,  2.2,  4. ,  1. ],\n",
       "       [ 6.1,  2.9,  4.7,  1.4],\n",
       "       [ 5.6,  2.9,  3.6,  1.3],\n",
       "       [ 6.7,  3.1,  4.4,  1.4],\n",
       "       [ 5.6,  3. ,  4.5,  1.5],\n",
       "       [ 5.8,  2.7,  4.1,  1. ],\n",
       "       [ 6.2,  2.2,  4.5,  1.5],\n",
       "       [ 5.6,  2.5,  3.9,  1.1],\n",
       "       [ 5.9,  3.2,  4.8,  1.8],\n",
       "       [ 6.1,  2.8,  4. ,  1.3],\n",
       "       [ 6.3,  2.5,  4.9,  1.5],\n",
       "       [ 6.1,  2.8,  4.7,  1.2],\n",
       "       [ 6.4,  2.9,  4.3,  1.3],\n",
       "       [ 6.6,  3. ,  4.4,  1.4],\n",
       "       [ 6.8,  2.8,  4.8,  1.4],\n",
       "       [ 6.7,  3. ,  5. ,  1.7],\n",
       "       [ 6. ,  2.9,  4.5,  1.5],\n",
       "       [ 5.7,  2.6,  3.5,  1. ],\n",
       "       [ 5.5,  2.4,  3.8,  1.1],\n",
       "       [ 5.5,  2.4,  3.7,  1. ],\n",
       "       [ 5.8,  2.7,  3.9,  1.2],\n",
       "       [ 6. ,  2.7,  5.1,  1.6],\n",
       "       [ 5.4,  3. ,  4.5,  1.5],\n",
       "       [ 6. ,  3.4,  4.5,  1.6],\n",
       "       [ 6.7,  3.1,  4.7,  1.5],\n",
       "       [ 6.3,  2.3,  4.4,  1.3],\n",
       "       [ 5.6,  3. ,  4.1,  1.3],\n",
       "       [ 5.5,  2.5,  4. ,  1.3],\n",
       "       [ 5.5,  2.6,  4.4,  1.2],\n",
       "       [ 6.1,  3. ,  4.6,  1.4],\n",
       "       [ 5.8,  2.6,  4. ,  1.2],\n",
       "       [ 5. ,  2.3,  3.3,  1. ],\n",
       "       [ 5.6,  2.7,  4.2,  1.3],\n",
       "       [ 5.7,  3. ,  4.2,  1.2],\n",
       "       [ 5.7,  2.9,  4.2,  1.3],\n",
       "       [ 6.2,  2.9,  4.3,  1.3],\n",
       "       [ 5.1,  2.5,  3. ,  1.1],\n",
       "       [ 5.7,  2.8,  4.1,  1.3],\n",
       "       [ 6.3,  3.3,  6. ,  2.5],\n",
       "       [ 5.8,  2.7,  5.1,  1.9],\n",
       "       [ 7.1,  3. ,  5.9,  2.1],\n",
       "       [ 6.3,  2.9,  5.6,  1.8],\n",
       "       [ 6.5,  3. ,  5.8,  2.2],\n",
       "       [ 7.6,  3. ,  6.6,  2.1],\n",
       "       [ 4.9,  2.5,  4.5,  1.7],\n",
       "       [ 7.3,  2.9,  6.3,  1.8],\n",
       "       [ 6.7,  2.5,  5.8,  1.8],\n",
       "       [ 7.2,  3.6,  6.1,  2.5],\n",
       "       [ 6.5,  3.2,  5.1,  2. ],\n",
       "       [ 6.4,  2.7,  5.3,  1.9],\n",
       "       [ 6.8,  3. ,  5.5,  2.1],\n",
       "       [ 5.7,  2.5,  5. ,  2. ],\n",
       "       [ 5.8,  2.8,  5.1,  2.4],\n",
       "       [ 6.4,  3.2,  5.3,  2.3],\n",
       "       [ 6.5,  3. ,  5.5,  1.8],\n",
       "       [ 7.7,  3.8,  6.7,  2.2],\n",
       "       [ 7.7,  2.6,  6.9,  2.3],\n",
       "       [ 6. ,  2.2,  5. ,  1.5],\n",
       "       [ 6.9,  3.2,  5.7,  2.3],\n",
       "       [ 5.6,  2.8,  4.9,  2. ],\n",
       "       [ 7.7,  2.8,  6.7,  2. ],\n",
       "       [ 6.3,  2.7,  4.9,  1.8],\n",
       "       [ 6.7,  3.3,  5.7,  2.1],\n",
       "       [ 7.2,  3.2,  6. ,  1.8],\n",
       "       [ 6.2,  2.8,  4.8,  1.8],\n",
       "       [ 6.1,  3. ,  4.9,  1.8],\n",
       "       [ 6.4,  2.8,  5.6,  2.1],\n",
       "       [ 7.2,  3. ,  5.8,  1.6],\n",
       "       [ 7.4,  2.8,  6.1,  1.9],\n",
       "       [ 7.9,  3.8,  6.4,  2. ],\n",
       "       [ 6.4,  2.8,  5.6,  2.2],\n",
       "       [ 6.3,  2.8,  5.1,  1.5],\n",
       "       [ 6.1,  2.6,  5.6,  1.4],\n",
       "       [ 7.7,  3. ,  6.1,  2.3],\n",
       "       [ 6.3,  3.4,  5.6,  2.4],\n",
       "       [ 6.4,  3.1,  5.5,  1.8],\n",
       "       [ 6. ,  3. ,  4.8,  1.8],\n",
       "       [ 6.9,  3.1,  5.4,  2.1],\n",
       "       [ 6.7,  3.1,  5.6,  2.4],\n",
       "       [ 6.9,  3.1,  5.1,  2.3],\n",
       "       [ 5.8,  2.7,  5.1,  1.9],\n",
       "       [ 6.8,  3.2,  5.9,  2.3],\n",
       "       [ 6.7,  3.3,  5.7,  2.5],\n",
       "       [ 6.7,  3. ,  5.2,  2.3],\n",
       "       [ 6.3,  2.5,  5. ,  1.9],\n",
       "       [ 6.5,  3. ,  5.2,  2. ],\n",
       "       [ 6.2,  3.4,  5.4,  2.3],\n",
       "       [ 5.9,  3. ,  5.1,  1.8]])"
      ]
     },
     "execution_count": 71,
     "metadata": {},
     "output_type": "execute_result"
    }
   ],
   "source": [
    "iris"
   ]
  },
  {
   "cell_type": "code",
   "execution_count": 70,
   "metadata": {},
   "outputs": [
    {
     "data": {
      "text/plain": [
       "array([0, 0, 0, 0, 0, 0, 0, 0, 0, 0, 0, 0, 0, 0, 0, 0, 0, 0, 0, 0, 0, 0, 0,\n",
       "       0, 0, 0, 0, 0, 0, 0, 0, 0, 0, 0, 0, 0, 0, 0, 0, 0, 0, 0, 0, 0, 0, 0,\n",
       "       0, 0, 0, 0, 1, 1, 1, 1, 1, 1, 1, 1, 1, 1, 1, 1, 1, 1, 1, 1, 1, 1, 1,\n",
       "       1, 1, 1, 1, 1, 1, 1, 1, 1, 1, 1, 1, 1, 1, 1, 1, 1, 1, 1, 1, 1, 1, 1,\n",
       "       1, 1, 1, 1, 1, 1, 1, 1, 2, 2, 2, 2, 2, 2, 2, 2, 2, 2, 2, 2, 2, 2, 2,\n",
       "       2, 2, 2, 2, 2, 2, 2, 2, 2, 2, 2, 2, 2, 2, 2, 2, 2, 2, 2, 2, 2, 2, 2,\n",
       "       2, 2, 2, 2, 2, 2, 2, 2, 2, 2, 2, 2])"
      ]
     },
     "execution_count": 70,
     "metadata": {},
     "output_type": "execute_result"
    }
   ],
   "source": [
    "iris_labels"
   ]
  },
  {
   "cell_type": "code",
   "execution_count": null,
   "metadata": {
    "collapsed": true
   },
   "outputs": [],
   "source": [
    "from keras.utils import to_categorical"
   ]
  },
  {
   "cell_type": "code",
   "execution_count": 67,
   "metadata": {
    "collapsed": true
   },
   "outputs": [],
   "source": [
    "iris_onehot = to_categorical(iris_labels)\n",
    "iris_onehot"
   ]
  },
  {
   "cell_type": "code",
   "execution_count": 73,
   "metadata": {
    "collapsed": true
   },
   "outputs": [],
   "source": [
    "from keras.models import Sequential\n",
    "from keras.layers import Dense"
   ]
  },
  {
   "cell_type": "code",
   "execution_count": 112,
   "metadata": {},
   "outputs": [],
   "source": [
    "model = Sequential()\n",
    "\n",
    "model.add(Dense(10, activation=\"sigmoid\", input_dim=4))\n",
    "model.add(Dense(3, activation=\"softmax\"))"
   ]
  },
  {
   "cell_type": "code",
   "execution_count": 113,
   "metadata": {},
   "outputs": [
    {
     "name": "stdout",
     "output_type": "stream",
     "text": [
      "_________________________________________________________________\n",
      "Layer (type)                 Output Shape              Param #   \n",
      "=================================================================\n",
      "dense_39 (Dense)             (None, 10)                50        \n",
      "_________________________________________________________________\n",
      "dense_40 (Dense)             (None, 3)                 33        \n",
      "=================================================================\n",
      "Total params: 83\n",
      "Trainable params: 83\n",
      "Non-trainable params: 0\n",
      "_________________________________________________________________\n"
     ]
    }
   ],
   "source": [
    "model.summary()"
   ]
  },
  {
   "cell_type": "code",
   "execution_count": 114,
   "metadata": {
    "collapsed": true
   },
   "outputs": [],
   "source": [
    "model.compile(loss=\"categorical_crossentropy\", optimizer=\"sgd\", metrics=[\"acc\"])"
   ]
  },
  {
   "cell_type": "code",
   "execution_count": 115,
   "metadata": {
    "scrolled": true
   },
   "outputs": [
    {
     "name": "stdout",
     "output_type": "stream",
     "text": [
      "Train on 120 samples, validate on 30 samples\n",
      "Epoch 1/100\n",
      "120/120 [==============================] - 1s 10ms/step - loss: 1.0203 - acc: 0.4167 - val_loss: 1.2532 - val_acc: 0.0000e+00\n",
      "Epoch 2/100\n",
      "120/120 [==============================] - 0s 183us/step - loss: 1.0099 - acc: 0.4167 - val_loss: 1.2809 - val_acc: 0.0000e+00\n",
      "Epoch 3/100\n",
      "120/120 [==============================] - 0s 192us/step - loss: 1.0017 - acc: 0.4167 - val_loss: 1.3072 - val_acc: 0.0000e+00\n",
      "Epoch 4/100\n",
      "120/120 [==============================] - 0s 308us/step - loss: 0.9936 - acc: 0.4167 - val_loss: 1.3311 - val_acc: 0.0000e+00\n",
      "Epoch 5/100\n",
      "120/120 [==============================] - 0s 242us/step - loss: 0.9869 - acc: 0.4167 - val_loss: 1.3527 - val_acc: 0.0000e+00\n",
      "Epoch 6/100\n",
      "120/120 [==============================] - 0s 175us/step - loss: 0.9811 - acc: 0.4167 - val_loss: 1.3724 - val_acc: 0.0000e+00\n",
      "Epoch 7/100\n",
      "120/120 [==============================] - 0s 200us/step - loss: 0.9759 - acc: 0.4167 - val_loss: 1.3906 - val_acc: 0.0000e+00\n",
      "Epoch 8/100\n",
      "120/120 [==============================] - 0s 183us/step - loss: 0.9706 - acc: 0.4167 - val_loss: 1.4076 - val_acc: 0.0000e+00\n",
      "Epoch 9/100\n",
      "120/120 [==============================] - 0s 183us/step - loss: 0.9669 - acc: 0.4333 - val_loss: 1.4225 - val_acc: 0.0000e+00\n",
      "Epoch 10/100\n",
      "120/120 [==============================] - 0s 242us/step - loss: 0.9622 - acc: 0.4417 - val_loss: 1.4353 - val_acc: 0.0000e+00\n",
      "Epoch 11/100\n",
      "120/120 [==============================] - 0s 183us/step - loss: 0.9584 - acc: 0.4833 - val_loss: 1.4473 - val_acc: 0.0000e+00\n",
      "Epoch 12/100\n",
      "120/120 [==============================] - 0s 250us/step - loss: 0.9542 - acc: 0.5167 - val_loss: 1.4574 - val_acc: 0.0000e+00\n",
      "Epoch 13/100\n",
      "120/120 [==============================] - 0s 192us/step - loss: 0.9505 - acc: 0.6167 - val_loss: 1.4667 - val_acc: 0.0000e+00\n",
      "Epoch 14/100\n",
      "120/120 [==============================] - 0s 200us/step - loss: 0.9471 - acc: 0.6833 - val_loss: 1.4747 - val_acc: 0.0000e+00\n",
      "Epoch 15/100\n",
      "120/120 [==============================] - 0s 192us/step - loss: 0.9435 - acc: 0.7250 - val_loss: 1.4810 - val_acc: 0.0000e+00\n",
      "Epoch 16/100\n",
      "120/120 [==============================] - 0s 192us/step - loss: 0.9406 - acc: 0.7833 - val_loss: 1.4871 - val_acc: 0.0000e+00\n",
      "Epoch 17/100\n",
      "120/120 [==============================] - 0s 175us/step - loss: 0.9364 - acc: 0.8083 - val_loss: 1.4926 - val_acc: 0.0000e+00\n",
      "Epoch 18/100\n",
      "120/120 [==============================] - ETA: 0s - loss: 0.9219 - acc: 0.850 - 0s 217us/step - loss: 0.9338 - acc: 0.8000 - val_loss: 1.4968 - val_acc: 0.0000e+00\n",
      "Epoch 19/100\n",
      "120/120 [==============================] - 0s 183us/step - loss: 0.9300 - acc: 0.8250 - val_loss: 1.5004 - val_acc: 0.0000e+00\n",
      "Epoch 20/100\n",
      "120/120 [==============================] - 0s 200us/step - loss: 0.9266 - acc: 0.8250 - val_loss: 1.5029 - val_acc: 0.0000e+00\n",
      "Epoch 21/100\n",
      "120/120 [==============================] - 0s 183us/step - loss: 0.9237 - acc: 0.8250 - val_loss: 1.5048 - val_acc: 0.0000e+00\n",
      "Epoch 22/100\n",
      "120/120 [==============================] - 0s 183us/step - loss: 0.9198 - acc: 0.8250 - val_loss: 1.5069 - val_acc: 0.0000e+00\n",
      "Epoch 23/100\n",
      "120/120 [==============================] - 0s 192us/step - loss: 0.9167 - acc: 0.8250 - val_loss: 1.5083 - val_acc: 0.0000e+00\n",
      "Epoch 24/100\n",
      "120/120 [==============================] - 0s 175us/step - loss: 0.9135 - acc: 0.8250 - val_loss: 1.5095 - val_acc: 0.0000e+00\n",
      "Epoch 25/100\n",
      "120/120 [==============================] - 0s 258us/step - loss: 0.9102 - acc: 0.8250 - val_loss: 1.5099 - val_acc: 0.0000e+00\n",
      "Epoch 26/100\n",
      "120/120 [==============================] - 0s 192us/step - loss: 0.9060 - acc: 0.8250 - val_loss: 1.5098 - val_acc: 0.0000e+00\n",
      "Epoch 27/100\n",
      "120/120 [==============================] - 0s 192us/step - loss: 0.9030 - acc: 0.8250 - val_loss: 1.5090 - val_acc: 0.0000e+00\n",
      "Epoch 28/100\n",
      "120/120 [==============================] - 0s 300us/step - loss: 0.8996 - acc: 0.8250 - val_loss: 1.5087 - val_acc: 0.0000e+00\n",
      "Epoch 29/100\n",
      "120/120 [==============================] - 0s 208us/step - loss: 0.8961 - acc: 0.8250 - val_loss: 1.5077 - val_acc: 0.0000e+00\n",
      "Epoch 30/100\n",
      "120/120 [==============================] - 0s 175us/step - loss: 0.8931 - acc: 0.8333 - val_loss: 1.5067 - val_acc: 0.0000e+00\n",
      "Epoch 31/100\n",
      "120/120 [==============================] - 0s 192us/step - loss: 0.8892 - acc: 0.8250 - val_loss: 1.5048 - val_acc: 0.0000e+00\n",
      "Epoch 32/100\n",
      "120/120 [==============================] - 0s 175us/step - loss: 0.8860 - acc: 0.8333 - val_loss: 1.5025 - val_acc: 0.0000e+00\n",
      "Epoch 33/100\n",
      "120/120 [==============================] - ETA: 0s - loss: 0.8928 - acc: 0.800 - 0s 258us/step - loss: 0.8826 - acc: 0.8333 - val_loss: 1.5001 - val_acc: 0.0000e+00\n",
      "Epoch 34/100\n",
      "120/120 [==============================] - 0s 167us/step - loss: 0.8792 - acc: 0.8333 - val_loss: 1.4980 - val_acc: 0.0000e+00\n",
      "Epoch 35/100\n",
      "120/120 [==============================] - 0s 175us/step - loss: 0.8768 - acc: 0.8333 - val_loss: 1.4953 - val_acc: 0.0000e+00\n",
      "Epoch 36/100\n",
      "120/120 [==============================] - 0s 175us/step - loss: 0.8727 - acc: 0.8333 - val_loss: 1.4929 - val_acc: 0.0000e+00\n",
      "Epoch 37/100\n",
      "120/120 [==============================] - 0s 175us/step - loss: 0.8695 - acc: 0.8333 - val_loss: 1.4895 - val_acc: 0.0000e+00\n",
      "Epoch 38/100\n",
      "120/120 [==============================] - 0s 208us/step - loss: 0.8660 - acc: 0.8333 - val_loss: 1.4862 - val_acc: 0.0000e+00\n",
      "Epoch 39/100\n",
      "120/120 [==============================] - 0s 208us/step - loss: 0.8623 - acc: 0.8333 - val_loss: 1.4825 - val_acc: 0.0000e+00\n",
      "Epoch 40/100\n",
      "120/120 [==============================] - 0s 175us/step - loss: 0.8597 - acc: 0.8333 - val_loss: 1.4793 - val_acc: 0.0000e+00\n",
      "Epoch 41/100\n",
      "120/120 [==============================] - 0s 175us/step - loss: 0.8559 - acc: 0.8333 - val_loss: 1.4761 - val_acc: 0.0000e+00\n",
      "Epoch 42/100\n",
      "120/120 [==============================] - 0s 217us/step - loss: 0.8526 - acc: 0.8333 - val_loss: 1.4716 - val_acc: 0.0000e+00\n",
      "Epoch 43/100\n",
      "120/120 [==============================] - 0s 167us/step - loss: 0.8488 - acc: 0.8333 - val_loss: 1.4688 - val_acc: 0.0000e+00\n",
      "Epoch 44/100\n",
      "120/120 [==============================] - 0s 200us/step - loss: 0.8453 - acc: 0.8333 - val_loss: 1.4647 - val_acc: 0.0000e+00\n",
      "Epoch 45/100\n",
      "120/120 [==============================] - 0s 183us/step - loss: 0.8416 - acc: 0.8333 - val_loss: 1.4611 - val_acc: 0.0000e+00\n",
      "Epoch 46/100\n",
      "120/120 [==============================] - 0s 200us/step - loss: 0.8386 - acc: 0.8333 - val_loss: 1.4580 - val_acc: 0.0000e+00\n",
      "Epoch 47/100\n",
      "120/120 [==============================] - 0s 183us/step - loss: 0.8347 - acc: 0.8333 - val_loss: 1.4545 - val_acc: 0.0000e+00\n",
      "Epoch 48/100\n",
      "120/120 [==============================] - 0s 183us/step - loss: 0.8318 - acc: 0.8333 - val_loss: 1.4515 - val_acc: 0.0000e+00\n",
      "Epoch 49/100\n",
      "120/120 [==============================] - 0s 217us/step - loss: 0.8279 - acc: 0.8333 - val_loss: 1.4482 - val_acc: 0.0000e+00\n",
      "Epoch 50/100\n",
      "120/120 [==============================] - 0s 175us/step - loss: 0.8251 - acc: 0.8333 - val_loss: 1.4449 - val_acc: 0.0000e+00\n",
      "Epoch 51/100\n",
      "120/120 [==============================] - 0s 192us/step - loss: 0.8210 - acc: 0.8333 - val_loss: 1.4410 - val_acc: 0.0000e+00\n",
      "Epoch 52/100\n",
      "120/120 [==============================] - 0s 175us/step - loss: 0.8172 - acc: 0.8333 - val_loss: 1.4367 - val_acc: 0.0000e+00\n",
      "Epoch 53/100\n",
      "120/120 [==============================] - 0s 217us/step - loss: 0.8136 - acc: 0.8333 - val_loss: 1.4328 - val_acc: 0.0000e+00\n",
      "Epoch 54/100\n",
      "120/120 [==============================] - 0s 183us/step - loss: 0.8112 - acc: 0.8333 - val_loss: 1.4292 - val_acc: 0.0000e+00\n",
      "Epoch 55/100\n",
      "120/120 [==============================] - 0s 183us/step - loss: 0.8069 - acc: 0.8333 - val_loss: 1.4246 - val_acc: 0.0000e+00\n",
      "Epoch 56/100\n",
      "120/120 [==============================] - 0s 217us/step - loss: 0.8032 - acc: 0.8333 - val_loss: 1.4205 - val_acc: 0.0000e+00\n",
      "Epoch 57/100\n",
      "120/120 [==============================] - 0s 175us/step - loss: 0.8000 - acc: 0.8333 - val_loss: 1.4160 - val_acc: 0.0000e+00\n",
      "Epoch 58/100\n",
      "120/120 [==============================] - 0s 167us/step - loss: 0.7962 - acc: 0.8333 - val_loss: 1.4110 - val_acc: 0.0000e+00\n"
     ]
    },
    {
     "name": "stdout",
     "output_type": "stream",
     "text": [
      "Epoch 59/100\n",
      "120/120 [==============================] - 0s 175us/step - loss: 0.7926 - acc: 0.8333 - val_loss: 1.4069 - val_acc: 0.0000e+00\n",
      "Epoch 60/100\n",
      "120/120 [==============================] - 0s 200us/step - loss: 0.7891 - acc: 0.8333 - val_loss: 1.4024 - val_acc: 0.0000e+00\n",
      "Epoch 61/100\n",
      "120/120 [==============================] - 0s 200us/step - loss: 0.7860 - acc: 0.8333 - val_loss: 1.3980 - val_acc: 0.0000e+00\n",
      "Epoch 62/100\n",
      "120/120 [==============================] - 0s 175us/step - loss: 0.7820 - acc: 0.8333 - val_loss: 1.3936 - val_acc: 0.0000e+00\n",
      "Epoch 63/100\n",
      "120/120 [==============================] - 0s 183us/step - loss: 0.7781 - acc: 0.8333 - val_loss: 1.3894 - val_acc: 0.0000e+00\n",
      "Epoch 64/100\n",
      "120/120 [==============================] - 0s 175us/step - loss: 0.7750 - acc: 0.8333 - val_loss: 1.3856 - val_acc: 0.0000e+00\n",
      "Epoch 65/100\n",
      "120/120 [==============================] - 0s 233us/step - loss: 0.7715 - acc: 0.8333 - val_loss: 1.3811 - val_acc: 0.0000e+00\n",
      "Epoch 66/100\n",
      "120/120 [==============================] - 0s 192us/step - loss: 0.7679 - acc: 0.8333 - val_loss: 1.3767 - val_acc: 0.0000e+00\n",
      "Epoch 67/100\n",
      "120/120 [==============================] - 0s 192us/step - loss: 0.7644 - acc: 0.8333 - val_loss: 1.3723 - val_acc: 0.0000e+00\n",
      "Epoch 68/100\n",
      "120/120 [==============================] - 0s 200us/step - loss: 0.7618 - acc: 0.8333 - val_loss: 1.3672 - val_acc: 0.0000e+00\n",
      "Epoch 69/100\n",
      "120/120 [==============================] - 0s 192us/step - loss: 0.7571 - acc: 0.8333 - val_loss: 1.3635 - val_acc: 0.0000e+00\n",
      "Epoch 70/100\n",
      "120/120 [==============================] - 0s 175us/step - loss: 0.7541 - acc: 0.8333 - val_loss: 1.3593 - val_acc: 0.0000e+00\n",
      "Epoch 71/100\n",
      "120/120 [==============================] - 0s 167us/step - loss: 0.7498 - acc: 0.8333 - val_loss: 1.3558 - val_acc: 0.0000e+00\n",
      "Epoch 72/100\n",
      "120/120 [==============================] - 0s 200us/step - loss: 0.7468 - acc: 0.8333 - val_loss: 1.3526 - val_acc: 0.0000e+00\n",
      "Epoch 73/100\n",
      "120/120 [==============================] - 0s 192us/step - loss: 0.7442 - acc: 0.8333 - val_loss: 1.3480 - val_acc: 0.0000e+00\n",
      "Epoch 74/100\n",
      "120/120 [==============================] - 0s 192us/step - loss: 0.7396 - acc: 0.8333 - val_loss: 1.3440 - val_acc: 0.0000e+00\n",
      "Epoch 75/100\n",
      "120/120 [==============================] - 0s 183us/step - loss: 0.7359 - acc: 0.8333 - val_loss: 1.3400 - val_acc: 0.0000e+00\n",
      "Epoch 76/100\n",
      "120/120 [==============================] - 0s 217us/step - loss: 0.7327 - acc: 0.8333 - val_loss: 1.3354 - val_acc: 0.0000e+00\n",
      "Epoch 77/100\n",
      "120/120 [==============================] - 0s 217us/step - loss: 0.7287 - acc: 0.8333 - val_loss: 1.3305 - val_acc: 0.0000e+00\n",
      "Epoch 78/100\n",
      "120/120 [==============================] - 0s 208us/step - loss: 0.7250 - acc: 0.8333 - val_loss: 1.3264 - val_acc: 0.0000e+00\n",
      "Epoch 79/100\n",
      "120/120 [==============================] - 0s 183us/step - loss: 0.7217 - acc: 0.8333 - val_loss: 1.3225 - val_acc: 0.0000e+00\n",
      "Epoch 80/100\n",
      "120/120 [==============================] - 0s 167us/step - loss: 0.7189 - acc: 0.8333 - val_loss: 1.3186 - val_acc: 0.0000e+00\n",
      "Epoch 81/100\n",
      "120/120 [==============================] - 0s 183us/step - loss: 0.7151 - acc: 0.8333 - val_loss: 1.3143 - val_acc: 0.0000e+00\n",
      "Epoch 82/100\n",
      "120/120 [==============================] - 0s 183us/step - loss: 0.7117 - acc: 0.8333 - val_loss: 1.3108 - val_acc: 0.0000e+00\n",
      "Epoch 83/100\n",
      "120/120 [==============================] - 0s 200us/step - loss: 0.7082 - acc: 0.8333 - val_loss: 1.3068 - val_acc: 0.0000e+00\n",
      "Epoch 84/100\n",
      "120/120 [==============================] - 0s 183us/step - loss: 0.7046 - acc: 0.8333 - val_loss: 1.3023 - val_acc: 0.0000e+00\n",
      "Epoch 85/100\n",
      "120/120 [==============================] - 0s 192us/step - loss: 0.7010 - acc: 0.8333 - val_loss: 1.2979 - val_acc: 0.0000e+00\n",
      "Epoch 86/100\n",
      "120/120 [==============================] - 0s 183us/step - loss: 0.6974 - acc: 0.8333 - val_loss: 1.2934 - val_acc: 0.0000e+00\n",
      "Epoch 87/100\n",
      "120/120 [==============================] - 0s 208us/step - loss: 0.6942 - acc: 0.8333 - val_loss: 1.2891 - val_acc: 0.0000e+00\n",
      "Epoch 88/100\n",
      "120/120 [==============================] - 0s 192us/step - loss: 0.6907 - acc: 0.8333 - val_loss: 1.2849 - val_acc: 0.0000e+00\n",
      "Epoch 89/100\n",
      "120/120 [==============================] - 0s 192us/step - loss: 0.6875 - acc: 0.8333 - val_loss: 1.2809 - val_acc: 0.0000e+00\n",
      "Epoch 90/100\n",
      "120/120 [==============================] - 0s 217us/step - loss: 0.6842 - acc: 0.8333 - val_loss: 1.2771 - val_acc: 0.0000e+00\n",
      "Epoch 91/100\n",
      "120/120 [==============================] - 0s 175us/step - loss: 0.6806 - acc: 0.8333 - val_loss: 1.2741 - val_acc: 0.0000e+00\n",
      "Epoch 92/100\n",
      "120/120 [==============================] - 0s 183us/step - loss: 0.6779 - acc: 0.8333 - val_loss: 1.2708 - val_acc: 0.0000e+00\n",
      "Epoch 93/100\n",
      "120/120 [==============================] - 0s 183us/step - loss: 0.6741 - acc: 0.8333 - val_loss: 1.2669 - val_acc: 0.0000e+00\n",
      "Epoch 94/100\n",
      "120/120 [==============================] - 0s 175us/step - loss: 0.6708 - acc: 0.8333 - val_loss: 1.2643 - val_acc: 0.0000e+00\n",
      "Epoch 95/100\n",
      "120/120 [==============================] - 0s 175us/step - loss: 0.6674 - acc: 0.8333 - val_loss: 1.2613 - val_acc: 0.0000e+00\n",
      "Epoch 96/100\n",
      "120/120 [==============================] - 0s 183us/step - loss: 0.6651 - acc: 0.8333 - val_loss: 1.2598 - val_acc: 0.0000e+00\n",
      "Epoch 97/100\n",
      "120/120 [==============================] - 0s 175us/step - loss: 0.6612 - acc: 0.8333 - val_loss: 1.2558 - val_acc: 0.0000e+00\n",
      "Epoch 98/100\n",
      "120/120 [==============================] - ETA: 0s - loss: 0.5945 - acc: 0.900 - 0s 183us/step - loss: 0.6578 - acc: 0.8333 - val_loss: 1.2531 - val_acc: 0.0000e+00\n",
      "Epoch 99/100\n",
      "120/120 [==============================] - 0s 208us/step - loss: 0.6545 - acc: 0.8333 - val_loss: 1.2497 - val_acc: 0.0000e+00\n",
      "Epoch 100/100\n",
      "120/120 [==============================] - 0s 183us/step - loss: 0.6519 - acc: 0.8333 - val_loss: 1.2470 - val_acc: 0.0000e+00\n"
     ]
    },
    {
     "data": {
      "text/plain": [
       "<keras.callbacks.History at 0x25eb95fdac8>"
      ]
     },
     "execution_count": 115,
     "metadata": {},
     "output_type": "execute_result"
    }
   ],
   "source": [
    "model.fit(iris, iris_onehot, epochs=100, batch_size=20, validation_split=0.2)"
   ]
  },
  {
   "cell_type": "markdown",
   "metadata": {},
   "source": [
    "## Problem 2: Identify person based on gait"
   ]
  },
  {
   "cell_type": "markdown",
   "metadata": {},
   "source": [
    "### Preparing the data"
   ]
  },
  {
   "cell_type": "code",
   "execution_count": 2,
   "metadata": {
    "collapsed": true
   },
   "outputs": [],
   "source": [
    "walking = np.load(\"data/walking_data.npy\")"
   ]
  },
  {
   "cell_type": "code",
   "execution_count": 3,
   "metadata": {
    "collapsed": true
   },
   "outputs": [],
   "source": [
    "walking_labels = np.load(\"data/walking_labels.npy\")"
   ]
  },
  {
   "cell_type": "code",
   "execution_count": 4,
   "metadata": {
    "collapsed": true
   },
   "outputs": [],
   "source": [
    "m = walking.shape[0]\n",
    "from random import shuffle\n",
    "indices = [x for x in range(m)]\n",
    "shuffle(indices)\n",
    "train_indices = indices[:int(m*0.6)]\n",
    "val_indices = indices[int(m*0.6):int(m*0.8)]\n",
    "test_indices = indices[int(m*0.8):]"
   ]
  },
  {
   "cell_type": "code",
   "execution_count": 5,
   "metadata": {},
   "outputs": [
    {
     "name": "stderr",
     "output_type": "stream",
     "text": [
      "Using TensorFlow backend.\n"
     ]
    }
   ],
   "source": [
    "X_train = walking[train_indices, :, :]\n",
    "X_val = walking[val_indices, :, :]\n",
    "X_test = walking[test_indices, :, :]\n",
    "\n",
    "# We have 15 integer labels, but these need to be one-hot encoded\n",
    "# e.g. '4' becomes [0, 0, 0, 0, 1, 0, 0, 0, 0, 0, 0, 0, 0, 0, 0]\n",
    "y_train = to_categorical(walking_labels[train_indices])\n",
    "y_val = to_categorical(walking_labels[val_indices])\n",
    "y_test = to_categorical(walking_labels[test_indices])"
   ]
  },
  {
   "cell_type": "code",
   "execution_count": 7,
   "metadata": {
    "scrolled": false
   },
   "outputs": [
    {
     "name": "stdout",
     "output_type": "stream",
     "text": [
      "(4075, 260, 3)\n",
      "(4075, 15)\n"
     ]
    }
   ],
   "source": [
    "print(X_train.shape)\n",
    "print(y_train.shape)"
   ]
  },
  {
   "cell_type": "code",
   "execution_count": 13,
   "metadata": {
    "collapsed": true
   },
   "outputs": [],
   "source": [
    "# Let's have a little look...\n",
    "import matplotlib.pyplot as plt\n",
    "%matplotlib inline\n",
    "\n",
    "def plot_series(series):\n",
    "    plt.plot(series[:, 0], color=\"red\")\n",
    "    plt.plot(series[:, 1], color=\"green\")\n",
    "    plt.plot(series[:, 2], color=\"blue\")"
   ]
  },
  {
   "cell_type": "code",
   "execution_count": 14,
   "metadata": {
    "scrolled": true
   },
   "outputs": [
    {
     "data": {
      "image/png": "[encoded data removed]",
      "text/plain": [
       "<matplotlib.figure.Figure at 0x25ea9a70978>"
      ]
     },
     "metadata": {},
     "output_type": "display_data"
    }
   ],
   "source": [
    "plot_series(X_train[0, :, :])"
   ]
  },
  {
   "cell_type": "markdown",
   "metadata": {},
   "source": [
    "Can we tell between different people's data by eye?\n",
    "\n",
    "Let's plot a few series for some different people - say, 5 series for 3 people."
   ]
  },
  {
   "cell_type": "markdown",
   "metadata": {},
   "source": [
    "![](three.png)"
   ]
  },
  {
   "cell_type": "markdown",
   "metadata": {},
   "source": [
    "### The neural network"
   ]
  },
  {
   "cell_type": "code",
   "execution_count": 40,
   "metadata": {},
   "outputs": [],
   "source": [
    "from keras.layers import Conv1D, MaxPooling1D, Flatten"
   ]
  },
  {
   "cell_type": "code",
   "execution_count": 45,
   "metadata": {
    "scrolled": true
   },
   "outputs": [
    {
     "name": "stdout",
     "output_type": "stream",
     "text": [
      "(None, 111, 40)\n",
      "(None, 55, 40)\n",
      "(None, 46, 40)\n",
      "(None, 23, 40)\n",
      "(None, 920)\n",
      "(None, 100)\n",
      "(None, 15)\n"
     ]
    }
   ],
   "source": [
    "# Initiate the model - we'll use a sequential model so we can add to it\n",
    "model = Sequential()\n",
    "\n",
    "# Start with a convolutional layer:\n",
    "#  * filters: The number of \"features\" we want to learn; number of patterns to try to identify\n",
    "#  * kernel_size: The \"window\" to consider, i.e. we look at a rolling window captuiring [kernel_size] time points at once\n",
    "#  * strides: How many time steps to \"roll forward\" each time we move the window\n",
    "#  * activation: The activation function to use; convolutional layers typically use REctified Linear Unit function\n",
    "#  * input_shape: We're feeding in observations each of shape 260{time points}*3{directional acceleration features}\n",
    "model.add(Conv1D(filters=40, kernel_size=40, strides=2, activation=\"relu\", input_shape=(260, 3)))\n",
    "print(model.output_shape)\n",
    "\n",
    "model.add(MaxPooling1D(pool_size=2))\n",
    "print(model.output_shape)\n",
    "\n",
    "# Another convolutional layer: this one finds \"meta-patterns\" in the patterns the first layer picked up\n",
    "model.add(Conv1D(filters=40, kernel_size=10, activation=\"relu\"))\n",
    "print(model.output_shape)\n",
    "\n",
    "# If the net is too large and computation too slow, we can reduce the number of parameters with max pooling\n",
    "# This layer would reduce the number of parameters by half by combining (\"pooling\") parameters\n",
    "# i.e. parameters get paired up (by position) and the maximum one only is kept\n",
    "model.add(MaxPooling1D(pool_size=2))\n",
    "print(model.output_shape)\n",
    "\n",
    "# We still have a 3-dimensional set of parameters - we need to make this 2-dimensional, so we \"flatten\"\n",
    "# (Unstack all the leaves and lay them out next to each other)\n",
    "model.add(Flatten())\n",
    "print(model.output_shape)\n",
    "\n",
    "# We need to finish with a couple of dense layers: one to detect relationships between the (flattened)\n",
    "# convolutional neurons, and...\n",
    "model.add(Dense(100, activation=\"sigmoid\"))\n",
    "print(model.output_shape)\n",
    "\n",
    "# ... one to present the output as a one-hot vector.\n",
    "# (We typically use softmax in the very final layer since it provides a \"stronger\" signal than sigmoid)\n",
    "model.add(Dense(15, activation=\"softmax\"))\n",
    "print(model.output_shape)"
   ]
  },
  {
   "cell_type": "code",
   "execution_count": 46,
   "metadata": {},
   "outputs": [
    {
     "name": "stdout",
     "output_type": "stream",
     "text": [
      "_________________________________________________________________\n",
      "Layer (type)                 Output Shape              Param #   \n",
      "=================================================================\n",
      "conv1d_15 (Conv1D)           (None, 111, 40)           4840      \n",
      "_________________________________________________________________\n",
      "max_pooling1d_11 (MaxPooling (None, 55, 40)            0         \n",
      "_________________________________________________________________\n",
      "conv1d_16 (Conv1D)           (None, 46, 40)            16040     \n",
      "_________________________________________________________________\n",
      "max_pooling1d_12 (MaxPooling (None, 23, 40)            0         \n",
      "_________________________________________________________________\n",
      "flatten_8 (Flatten)          (None, 920)               0         \n",
      "_________________________________________________________________\n",
      "dense_15 (Dense)             (None, 100)               92100     \n",
      "_________________________________________________________________\n",
      "dense_16 (Dense)             (None, 15)                1515      \n",
      "=================================================================\n",
      "Total params: 114,495\n",
      "Trainable params: 114,495\n",
      "Non-trainable params: 0\n",
      "_________________________________________________________________\n"
     ]
    }
   ],
   "source": [
    "model.summary()"
   ]
  },
  {
   "cell_type": "code",
   "execution_count": 47,
   "metadata": {
    "collapsed": true
   },
   "outputs": [],
   "source": [
    "# We have to compile the network before we can run it, defining:\n",
    "# * Loss function to use (always categorical cross-entropy for multi-class logistic regression)\n",
    "# * Optimizer to use\n",
    "#   (\"adam\" = \"ADAptive Movement estimation\", but e.g. \"sgd\" = \"Stochastic Gradient Descent\" will work, just slower)\n",
    "# * Metrics to report (NOT used for adjusting parameters - that's what the loss function is for!)\n",
    "model.compile(loss=\"categorical_crossentropy\", optimizer=\"adam\", metrics=[\"accuracy\"])"
   ]
  },
  {
   "cell_type": "code",
   "execution_count": 48,
   "metadata": {
    "scrolled": true
   },
   "outputs": [
    {
     "name": "stdout",
     "output_type": "stream",
     "text": [
      "Train on 4075 samples, validate on 1358 samples\n",
      "Epoch 1/10\n",
      "4075/4075 [==============================] - 5s 1ms/step - loss: 2.4143 - acc: 0.2270 - val_loss: 1.8369 - val_acc: 0.4934\n",
      "Epoch 2/10\n",
      "4075/4075 [==============================] - 3s 850us/step - loss: 1.2670 - acc: 0.6834 - val_loss: 0.9378 - val_acc: 0.7563\n",
      "Epoch 3/10\n",
      "4075/4075 [==============================] - 3s 853us/step - loss: 0.7233 - acc: 0.8213 - val_loss: 0.6626 - val_acc: 0.8343\n",
      "Epoch 4/10\n",
      "4075/4075 [==============================] - 4s 860us/step - loss: 0.5104 - acc: 0.8827 - val_loss: 0.5199 - val_acc: 0.8638\n",
      "Epoch 5/10\n",
      "4075/4075 [==============================] - 4s 865us/step - loss: 0.3721 - acc: 0.9249 - val_loss: 0.4186 - val_acc: 0.9013\n",
      "Epoch 6/10\n",
      "4075/4075 [==============================] - 4s 867us/step - loss: 0.2846 - acc: 0.9467 - val_loss: 0.3619 - val_acc: 0.9087\n",
      "Epoch 7/10\n",
      "4075/4075 [==============================] - 4s 867us/step - loss: 0.2200 - acc: 0.9656 - val_loss: 0.3199 - val_acc: 0.9242\n",
      "Epoch 8/10\n",
      "4075/4075 [==============================] - 4s 863us/step - loss: 0.1724 - acc: 0.9774 - val_loss: 0.2878 - val_acc: 0.9293\n",
      "Epoch 9/10\n",
      "4075/4075 [==============================] - 4s 885us/step - loss: 0.1385 - acc: 0.9833 - val_loss: 0.2617 - val_acc: 0.9293\n",
      "Epoch 10/10\n",
      "4075/4075 [==============================] - 4s 879us/step - loss: 0.1065 - acc: 0.9902 - val_loss: 0.2409 - val_acc: 0.9352\n"
     ]
    },
    {
     "data": {
      "text/plain": [
       "<keras.callbacks.History at 0x25eb4324d30>"
      ]
     },
     "execution_count": 48,
     "metadata": {},
     "output_type": "execute_result"
    }
   ],
   "source": [
    "# Fit it!\n",
    "# * X_train and y_train are training data/labels\n",
    "# * epochs: How many times to pass the training data through and update the network's parameters\n",
    "# * batch_size: How many observations to include in each batch the optimizer sees\n",
    "# * Also show us the accuracy for the cross-validation set\n",
    "model.fit(X_train, y_train, epochs=10, batch_size=100, validation_data=(X_val, y_val))"
   ]
  },
  {
   "cell_type": "markdown",
   "metadata": {},
   "source": [
    "At this point we could try to improve that cross-validation accuracy score, e.g. change network structure."
   ]
  },
  {
   "cell_type": "markdown",
   "metadata": {},
   "source": [
    "### Reporting"
   ]
  },
  {
   "cell_type": "code",
   "execution_count": 49,
   "metadata": {
    "collapsed": true
   },
   "outputs": [],
   "source": [
    "from sklearn.metrics import classification_report, confusion_matrix"
   ]
  },
  {
   "cell_type": "code",
   "execution_count": 52,
   "metadata": {
    "scrolled": true
   },
   "outputs": [
    {
     "name": "stdout",
     "output_type": "stream",
     "text": [
      "             precision    recall  f1-score   support\n",
      "\n",
      "          0       0.98      0.97      0.98       105\n",
      "          1       0.95      0.91      0.93        82\n",
      "          2       0.90      0.81      0.85        75\n",
      "          3       0.97      0.95      0.96       100\n",
      "          4       0.97      0.84      0.90        75\n",
      "          5       0.93      0.98      0.95       116\n",
      "          6       0.90      0.86      0.88        73\n",
      "          7       0.91      0.89      0.90        84\n",
      "          8       0.95      0.98      0.96        83\n",
      "          9       0.85      0.99      0.91        85\n",
      "         10       0.96      1.00      0.98        95\n",
      "         11       0.86      0.93      0.90        88\n",
      "         12       0.99      1.00      0.99        93\n",
      "         13       0.92      0.93      0.92       105\n",
      "         14       0.97      0.88      0.92       100\n",
      "\n",
      "avg / total       0.94      0.93      0.93      1359\n",
      "\n",
      "[[102   0   1   0   0   0   0   0   0   0   1   0   0   1   0]\n",
      " [  0  75   0   0   0   0   1   0   0   2   0   1   0   3   0]\n",
      " [  0   0  61   2   2   0   2   0   0   5   3   0   0   0   0]\n",
      " [  1   0   0  95   0   3   0   0   0   0   0   0   0   0   1]\n",
      " [  0   0   2   0  63   2   2   0   0   2   0   0   1   2   1]\n",
      " [  0   0   0   0   0 114   0   0   0   0   0   0   0   2   0]\n",
      " [  1   0   3   1   0   0  63   0   3   2   0   0   0   0   0]\n",
      " [  0   1   0   0   0   0   0  75   0   1   0   7   0   0   0]\n",
      " [  0   0   0   0   0   0   1   0  81   0   0   0   0   0   1]\n",
      " [  0   0   0   0   0   0   1   0   0  84   0   0   0   0   0]\n",
      " [  0   0   0   0   0   0   0   0   0   0  95   0   0   0   0]\n",
      " [  0   0   1   0   0   0   0   5   0   0   0  82   0   0   0]\n",
      " [  0   0   0   0   0   0   0   0   0   0   0   0  93   0   0]\n",
      " [  0   3   0   0   0   0   0   1   0   1   0   2   0  98   0]\n",
      " [  0   0   0   0   0   4   0   1   1   2   0   3   0   1  88]]\n"
     ]
    }
   ],
   "source": [
    "y_pred = model.predict_classes(X_test)\n",
    "print(classification_report(np.argmax(y_test, axis=1), y_pred))\n",
    "print(confusion_matrix(np.argmax(y_test, axis=1), y_pred))"
   ]
  },
  {
   "cell_type": "markdown",
   "metadata": {},
   "source": [
    "---"
   ]
  },
  {
   "cell_type": "markdown",
   "metadata": {},
   "source": [
    "## Visualising features"
   ]
  },
  {
   "cell_type": "markdown",
   "metadata": {},
   "source": [
    "We can try to visualise the \"features\" of the time series which the convolutional layers of the net have learned to identify."
   ]
  },
  {
   "cell_type": "code",
   "execution_count": null,
   "metadata": {
    "scrolled": true
   },
   "outputs": [],
   "source": [
    "# Get the values from each layer\n",
    "layer_dict = dict([(layer.name, layer) for layer in model.layers])\n",
    "layer_dict"
   ]
  },
  {
   "cell_type": "code",
   "execution_count": null,
   "metadata": {
    "collapsed": true
   },
   "outputs": [],
   "source": [
    "# Plot the weights from a given layer\n",
    "def plot_filter(layer, k):\n",
    "    x = layer_dict[layer].get_weights()[0][:, :, k]\n",
    "    plt.plot(x[:, 0], color=\"red\")\n",
    "    plt.plot(x[:, 1], color=\"green\")\n",
    "    plt.plot(x[:, 2], color=\"blue\")"
   ]
  },
  {
   "cell_type": "code",
   "execution_count": null,
   "metadata": {},
   "outputs": [],
   "source": [
    "plot_filter(\"conv1d_1\", 9)"
   ]
  },
  {
   "cell_type": "markdown",
   "metadata": {
    "collapsed": true
   },
   "source": [
    "We can also see if there are any patterns in the autocorrelation plots which might suggest strong periodicity."
   ]
  },
  {
   "cell_type": "code",
   "execution_count": null,
   "metadata": {
    "collapsed": true
   },
   "outputs": [],
   "source": [
    "def plot_filter_corr(layer, k):\n",
    "    x = layer_dict[layer].get_weights()[0][:, :, k]\n",
    "    t0 = np.correlate(x[:, 0], x[:, 0], mode=\"full\")\n",
    "    t1 = np.correlate(x[:, 1], x[:, 1], mode=\"full\")\n",
    "    t2 = np.correlate(x[:, 2], x[:, 2], mode=\"full\")\n",
    "    plt.plot(t0[int(len(t0)/2):], color=\"red\")\n",
    "    plt.plot(t1[int(len(t1)/2):], color=\"green\")\n",
    "    plt.plot(t2[int(len(t2)/2):], color=\"blue\")"
   ]
  },
  {
   "cell_type": "code",
   "execution_count": null,
   "metadata": {},
   "outputs": [],
   "source": [
    "plot_filter_corr(\"conv1d_1\", 9)"
   ]
  },
  {
   "cell_type": "markdown",
   "metadata": {},
   "source": [
    "Let's plot each filter with its autocorrelation plot."
   ]
  },
  {
   "cell_type": "code",
   "execution_count": null,
   "metadata": {
    "scrolled": false
   },
   "outputs": [],
   "source": [
    "ax, fig = plt.subplots(ncols=2, nrows=10, figsize=(20, 40))\n",
    "\n",
    "for k in range(10):\n",
    "    plt.subplot(10, 2, 2*k + 1)\n",
    "    plot_filter(\"conv1d_1\", k)\n",
    "    plt.subplot(10, 2, 2*k + 2)\n",
    "    plot_filter_corr(\"conv1d_1\", k)"
   ]
  }
 ],
 "metadata": {
  "kernelspec": {
   "display_name": "Python 3",
   "language": "python",
   "name": "python3"
  },
  "language_info": {
   "codemirror_mode": {
    "name": "ipython",
    "version": 3
   },
   "file_extension": ".py",
   "mimetype": "text/x-python",
   "name": "python",
   "nbconvert_exporter": "python",
   "pygments_lexer": "ipython3",
   "version": "3.6.1"
  }
 },
 "nbformat": 4,
 "nbformat_minor": 2
}
